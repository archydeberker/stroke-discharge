{
 "cells": [
  {
   "cell_type": "code",
   "execution_count": 1,
   "metadata": {},
   "outputs": [
    {
     "name": "stderr",
     "output_type": "stream",
     "text": [
      "/Users/archydeberker/anaconda3/lib/python3.6/site-packages/statsmodels/compat/pandas.py:56: FutureWarning: The pandas.core.datetools module is deprecated and will be removed in a future version. Please use the pandas.tseries module instead.\n",
      "  from pandas.core import datetools\n"
     ]
    }
   ],
   "source": [
    "import sklearn\n",
    "from sklearn.model_selection import train_test_split\n",
    "from sklearn.linear_model import LogisticRegression\n",
    "from sklearn.dummy import DummyClassifier\n",
    "from sklearn.feature_selection import f_regression\n",
    "from sklearn import svm\n",
    "from sklearn.ensemble import RandomForestClassifier, AdaBoostClassifier\n",
    "\n",
    "import statsmodels.api as sm\n",
    "\n",
    "import numpy as np\n",
    "from scipy import stats\n",
    "import pandas as pd\n",
    "\n",
    "import matplotlib.pyplot as plt\n",
    "\n",
    "import seaborn as sns"
   ]
  },
  {
   "cell_type": "markdown",
   "metadata": {},
   "source": [
    "## Exploring the data\n"
   ]
  },
  {
   "cell_type": "code",
   "execution_count": 2,
   "metadata": {
    "collapsed": true
   },
   "outputs": [],
   "source": [
    "df = pd.read_excel('../data/destinations.xls', header=2, index='MRS')"
   ]
  },
  {
   "cell_type": "code",
   "execution_count": 3,
   "metadata": {
    "collapsed": true
   },
   "outputs": [],
   "source": [
    "df = df.set_index('MRS')"
   ]
  },
  {
   "cell_type": "code",
   "execution_count": 4,
   "metadata": {
    "collapsed": true
   },
   "outputs": [],
   "source": [
    "df = df.drop( 'Unnamed: 5', axis=1,)"
   ]
  },
  {
   "cell_type": "code",
   "execution_count": 5,
   "metadata": {},
   "outputs": [
    {
     "data": {
      "text/html": [
       "<div>\n",
       "<style scoped>\n",
       "    .dataframe tbody tr th:only-of-type {\n",
       "        vertical-align: middle;\n",
       "    }\n",
       "\n",
       "    .dataframe tbody tr th {\n",
       "        vertical-align: top;\n",
       "    }\n",
       "\n",
       "    .dataframe thead th {\n",
       "        text-align: right;\n",
       "    }\n",
       "</style>\n",
       "<table border=\"1\" class=\"dataframe\">\n",
       "  <thead>\n",
       "    <tr style=\"text-align: right;\">\n",
       "      <th></th>\n",
       "      <th>Home/n</th>\n",
       "      <th>CH/n</th>\n",
       "      <th>inpatient/n</th>\n",
       "      <th>Death/n</th>\n",
       "    </tr>\n",
       "    <tr>\n",
       "      <th>MRS</th>\n",
       "      <th></th>\n",
       "      <th></th>\n",
       "      <th></th>\n",
       "      <th></th>\n",
       "    </tr>\n",
       "  </thead>\n",
       "  <tbody>\n",
       "    <tr>\n",
       "      <th>1</th>\n",
       "      <td>0.647887</td>\n",
       "      <td>0.183206</td>\n",
       "      <td>0.063707</td>\n",
       "      <td>0.333333</td>\n",
       "    </tr>\n",
       "    <tr>\n",
       "      <th>2</th>\n",
       "      <td>0.295775</td>\n",
       "      <td>0.312977</td>\n",
       "      <td>0.177606</td>\n",
       "      <td>0.301075</td>\n",
       "    </tr>\n",
       "    <tr>\n",
       "      <th>3</th>\n",
       "      <td>0.056338</td>\n",
       "      <td>0.316794</td>\n",
       "      <td>0.318533</td>\n",
       "      <td>0.258065</td>\n",
       "    </tr>\n",
       "    <tr>\n",
       "      <th>4</th>\n",
       "      <td>0.000000</td>\n",
       "      <td>0.171756</td>\n",
       "      <td>0.416988</td>\n",
       "      <td>0.096774</td>\n",
       "    </tr>\n",
       "    <tr>\n",
       "      <th>5</th>\n",
       "      <td>0.000000</td>\n",
       "      <td>0.015267</td>\n",
       "      <td>0.023166</td>\n",
       "      <td>0.010753</td>\n",
       "    </tr>\n",
       "    <tr>\n",
       "      <th>6</th>\n",
       "      <td>0.000000</td>\n",
       "      <td>0.000000</td>\n",
       "      <td>0.000000</td>\n",
       "      <td>0.000000</td>\n",
       "    </tr>\n",
       "  </tbody>\n",
       "</table>\n",
       "</div>"
      ],
      "text/plain": [
       "       Home/n      CH/n  inpatient/n   Death/n\n",
       "MRS                                           \n",
       "1    0.647887  0.183206     0.063707  0.333333\n",
       "2    0.295775  0.312977     0.177606  0.301075\n",
       "3    0.056338  0.316794     0.318533  0.258065\n",
       "4    0.000000  0.171756     0.416988  0.096774\n",
       "5    0.000000  0.015267     0.023166  0.010753\n",
       "6    0.000000  0.000000     0.000000  0.000000"
      ]
     },
     "execution_count": 5,
     "metadata": {},
     "output_type": "execute_result"
    }
   ],
   "source": [
    "df"
   ]
  },
  {
   "cell_type": "code",
   "execution_count": 6,
   "metadata": {},
   "outputs": [],
   "source": [
    "mtx = df.as_matrix()"
   ]
  },
  {
   "cell_type": "code",
   "execution_count": 7,
   "metadata": {},
   "outputs": [
    {
     "data": {
      "image/png": "[encoded data removed]",
      "text/plain": [
       "<Figure size 720x720 with 1 Axes>"
      ]
     },
     "metadata": {},
     "output_type": "display_data"
    }
   ],
   "source": [
    "plt.figure(figsize=(10,10))\n",
    "plt.title('p(MRS|Discharge')\n",
    "plt.imshow(mtx)\n",
    "plt.xlabel('Discharge Location')\n",
    "plt.xticks(range(4), df.columns.values)\n",
    "plt.ylabel('MRS Rating')\n",
    "plt.show()"
   ]
  },
  {
   "cell_type": "code",
   "execution_count": 16,
   "metadata": {
    "collapsed": true
   },
   "outputs": [],
   "source": [
    "df2 = pd.read_excel('../data/destinations_inverted.xlsx', header=3)"
   ]
  },
  {
   "cell_type": "code",
   "execution_count": 17,
   "metadata": {},
   "outputs": [
    {
     "data": {
      "text/html": [
       "<div>\n",
       "<style scoped>\n",
       "    .dataframe tbody tr th:only-of-type {\n",
       "        vertical-align: middle;\n",
       "    }\n",
       "\n",
       "    .dataframe tbody tr th {\n",
       "        vertical-align: top;\n",
       "    }\n",
       "\n",
       "    .dataframe thead th {\n",
       "        text-align: right;\n",
       "    }\n",
       "</style>\n",
       "<table border=\"1\" class=\"dataframe\">\n",
       "  <thead>\n",
       "    <tr style=\"text-align: right;\">\n",
       "      <th></th>\n",
       "      <th>Rows sum to 1</th>\n",
       "      <th>MRS</th>\n",
       "      <th>Death/n</th>\n",
       "      <th>Home/n</th>\n",
       "      <th>inpatient/n</th>\n",
       "      <th>CH/n</th>\n",
       "    </tr>\n",
       "  </thead>\n",
       "  <tbody>\n",
       "    <tr>\n",
       "      <th>NaN</th>\n",
       "      <td>1.0</td>\n",
       "      <td>1</td>\n",
       "      <td>0.196203</td>\n",
       "      <td>0.291139</td>\n",
       "      <td>0.208861</td>\n",
       "      <td>0.303797</td>\n",
       "    </tr>\n",
       "    <tr>\n",
       "      <th>NaN</th>\n",
       "      <td>1.0</td>\n",
       "      <td>2</td>\n",
       "      <td>0.125561</td>\n",
       "      <td>0.094170</td>\n",
       "      <td>0.412556</td>\n",
       "      <td>0.367713</td>\n",
       "    </tr>\n",
       "    <tr>\n",
       "      <th>NaN</th>\n",
       "      <td>1.0</td>\n",
       "      <td>3</td>\n",
       "      <td>0.086957</td>\n",
       "      <td>0.014493</td>\n",
       "      <td>0.597826</td>\n",
       "      <td>0.300725</td>\n",
       "    </tr>\n",
       "    <tr>\n",
       "      <th>NaN</th>\n",
       "      <td>1.0</td>\n",
       "      <td>4</td>\n",
       "      <td>0.033333</td>\n",
       "      <td>0.000000</td>\n",
       "      <td>0.800000</td>\n",
       "      <td>0.166667</td>\n",
       "    </tr>\n",
       "    <tr>\n",
       "      <th>NaN</th>\n",
       "      <td>1.0</td>\n",
       "      <td>5</td>\n",
       "      <td>0.058824</td>\n",
       "      <td>0.000000</td>\n",
       "      <td>0.705882</td>\n",
       "      <td>0.235294</td>\n",
       "    </tr>\n",
       "    <tr>\n",
       "      <th>NaN</th>\n",
       "      <td>NaN</td>\n",
       "      <td>6</td>\n",
       "      <td>0.000000</td>\n",
       "      <td>0.000000</td>\n",
       "      <td>0.000000</td>\n",
       "      <td>0.000000</td>\n",
       "    </tr>\n",
       "  </tbody>\n",
       "</table>\n",
       "</div>"
      ],
      "text/plain": [
       "     Rows sum to 1  MRS   Death/n    Home/n  inpatient/n      CH/n\n",
       "NaN            1.0    1  0.196203  0.291139     0.208861  0.303797\n",
       "NaN            1.0    2  0.125561  0.094170     0.412556  0.367713\n",
       "NaN            1.0    3  0.086957  0.014493     0.597826  0.300725\n",
       "NaN            1.0    4  0.033333  0.000000     0.800000  0.166667\n",
       "NaN            1.0    5  0.058824  0.000000     0.705882  0.235294\n",
       "NaN            NaN    6  0.000000  0.000000     0.000000  0.000000"
      ]
     },
     "execution_count": 17,
     "metadata": {},
     "output_type": "execute_result"
    }
   ],
   "source": [
    "df2"
   ]
  },
  {
   "cell_type": "code",
   "execution_count": 18,
   "metadata": {
    "collapsed": true
   },
   "outputs": [],
   "source": [
    "df2 = df2.set_index('MRS')"
   ]
  },
  {
   "cell_type": "code",
   "execution_count": 19,
   "metadata": {
    "collapsed": true
   },
   "outputs": [],
   "source": [
    "df2.drop('Rows sum to 1', axis=1, inplace=True)"
   ]
  },
  {
   "cell_type": "code",
   "execution_count": 20,
   "metadata": {},
   "outputs": [
    {
     "data": {
      "text/html": [
       "<div>\n",
       "<style scoped>\n",
       "    .dataframe tbody tr th:only-of-type {\n",
       "        vertical-align: middle;\n",
       "    }\n",
       "\n",
       "    .dataframe tbody tr th {\n",
       "        vertical-align: top;\n",
       "    }\n",
       "\n",
       "    .dataframe thead th {\n",
       "        text-align: right;\n",
       "    }\n",
       "</style>\n",
       "<table border=\"1\" class=\"dataframe\">\n",
       "  <thead>\n",
       "    <tr style=\"text-align: right;\">\n",
       "      <th></th>\n",
       "      <th>Death/n</th>\n",
       "      <th>Home/n</th>\n",
       "      <th>inpatient/n</th>\n",
       "      <th>CH/n</th>\n",
       "    </tr>\n",
       "    <tr>\n",
       "      <th>MRS</th>\n",
       "      <th></th>\n",
       "      <th></th>\n",
       "      <th></th>\n",
       "      <th></th>\n",
       "    </tr>\n",
       "  </thead>\n",
       "  <tbody>\n",
       "    <tr>\n",
       "      <th>1</th>\n",
       "      <td>0.196203</td>\n",
       "      <td>0.291139</td>\n",
       "      <td>0.208861</td>\n",
       "      <td>0.303797</td>\n",
       "    </tr>\n",
       "    <tr>\n",
       "      <th>2</th>\n",
       "      <td>0.125561</td>\n",
       "      <td>0.094170</td>\n",
       "      <td>0.412556</td>\n",
       "      <td>0.367713</td>\n",
       "    </tr>\n",
       "    <tr>\n",
       "      <th>3</th>\n",
       "      <td>0.086957</td>\n",
       "      <td>0.014493</td>\n",
       "      <td>0.597826</td>\n",
       "      <td>0.300725</td>\n",
       "    </tr>\n",
       "    <tr>\n",
       "      <th>4</th>\n",
       "      <td>0.033333</td>\n",
       "      <td>0.000000</td>\n",
       "      <td>0.800000</td>\n",
       "      <td>0.166667</td>\n",
       "    </tr>\n",
       "    <tr>\n",
       "      <th>5</th>\n",
       "      <td>0.058824</td>\n",
       "      <td>0.000000</td>\n",
       "      <td>0.705882</td>\n",
       "      <td>0.235294</td>\n",
       "    </tr>\n",
       "    <tr>\n",
       "      <th>6</th>\n",
       "      <td>0.000000</td>\n",
       "      <td>0.000000</td>\n",
       "      <td>0.000000</td>\n",
       "      <td>0.000000</td>\n",
       "    </tr>\n",
       "  </tbody>\n",
       "</table>\n",
       "</div>"
      ],
      "text/plain": [
       "      Death/n    Home/n  inpatient/n      CH/n\n",
       "MRS                                           \n",
       "1    0.196203  0.291139     0.208861  0.303797\n",
       "2    0.125561  0.094170     0.412556  0.367713\n",
       "3    0.086957  0.014493     0.597826  0.300725\n",
       "4    0.033333  0.000000     0.800000  0.166667\n",
       "5    0.058824  0.000000     0.705882  0.235294\n",
       "6    0.000000  0.000000     0.000000  0.000000"
      ]
     },
     "execution_count": 20,
     "metadata": {},
     "output_type": "execute_result"
    }
   ],
   "source": [
    "df2"
   ]
  },
  {
   "cell_type": "code",
   "execution_count": 21,
   "metadata": {},
   "outputs": [
    {
     "name": "stderr",
     "output_type": "stream",
     "text": [
      "/Users/archy/anaconda/envs/stroke-discharge/lib/python3.6/site-packages/ipykernel_launcher.py:2: FutureWarning: Method .as_matrix will be removed in a future version. Use .values instead.\n",
      "  \n"
     ]
    },
    {
     "data": {
      "image/png": "[encoded data removed]",
      "text/plain": [
       "<Figure size 720x720 with 2 Axes>"
      ]
     },
     "metadata": {
      "needs_background": "light"
     },
     "output_type": "display_data"
    }
   ],
   "source": [
    "plt.figure(figsize=(10, 10))\n",
    "mtx2 = df2.as_matrix()\n",
    "plt.title('p(Discharge|MRS)', fontsize=25, position=(0.5, 1.01))\n",
    "plt.imshow(mtx2, vmin=0, vmax=1, cmap='magma')\n",
    "plt.xlabel('Discharge Location', fontsize=20)\n",
    "plt.yticks(range(0,6), range(1,7), fontsize=15)\n",
    "plt.xticks(range(0, 4), ['Home', 'CH', 'In Patient', 'Death'], fontsize=15)\n",
    "plt.ylabel('MRS Rating',  fontsize=20)\n",
    "cbar = plt.colorbar()\n",
    "cbar.ax.set_ylabel('Probability ', rotation=270, fontsize=15)\n",
    "plt.show()"
   ]
  },
  {
   "cell_type": "code",
   "execution_count": 22,
   "metadata": {},
   "outputs": [
    {
     "data": {
      "image/png": "[encoded data removed]",
      "text/plain": [
       "<Figure size 720x720 with 2 Axes>"
      ]
     },
     "metadata": {
      "needs_background": "light"
     },
     "output_type": "display_data"
    }
   ],
   "source": [
    "plt.figure(figsize=(10, 10))\n",
    "dummy_mtx = .25*np.ones(shape=(6,4))\n",
    "plt.title('p(Discharge|MRS)', fontsize=25, position=(0.5, 1.01))\n",
    "plt.imshow(dummy_mtx, vmin=0, vmax=1, cmap='magma')\n",
    "\n",
    "plt.xlabel('Discharge Location', fontsize=20)\n",
    "plt.yticks(range(0,6), range(1,7), fontsize=15)\n",
    "plt.xticks(range(0, 4), ['Home', 'CH', 'In Patient', 'Death'], fontsize=15)\n",
    "plt.ylabel('MRS Rating',  fontsize=20)\n",
    "cbar = plt.colorbar()\n",
    "cbar.ax.set_ylabel('Probability ', rotation=270, fontsize=15)\n",
    "plt.show()"
   ]
  },
  {
   "cell_type": "code",
   "execution_count": 23,
   "metadata": {},
   "outputs": [
    {
     "data": {
      "image/png": "[encoded data removed]",
      "text/plain": [
       "<Figure size 720x720 with 1 Axes>"
      ]
     },
     "metadata": {
      "needs_background": "light"
     },
     "output_type": "display_data"
    }
   ],
   "source": [
    "df2.plot.bar(stacked=True, figsize=(10,10))\n",
    "plt.legend(['Death', 'Home', 'In Patient', 'CH'])\n",
    "plt.ylabel('Probability', fontsize=15)\n",
    "plt.xlabel('MRS Score', fontsize=15)\n",
    "plt.show()"
   ]
  },
  {
   "cell_type": "code",
   "execution_count": null,
   "metadata": {
    "collapsed": true
   },
   "outputs": [],
   "source": []
  },
  {
   "cell_type": "markdown",
   "metadata": {
    "collapsed": true
   },
   "source": [
    "# Logistic regression"
   ]
  },
  {
   "cell_type": "markdown",
   "metadata": {},
   "source": [
    "### Dummy data"
   ]
  },
  {
   "cell_type": "code",
   "execution_count": 96,
   "metadata": {
    "collapsed": true
   },
   "outputs": [],
   "source": [
    "dummy_data = pd.DataFrame([[67,5,3, 0], [89,9,2, 1], [92,10,4, 2], [98,45,3, 3]], columns=['Age', 'NIHSS', 'MRS', 'Destination'])"
   ]
  },
  {
   "cell_type": "code",
   "execution_count": 97,
   "metadata": {},
   "outputs": [
    {
     "data": {
      "text/html": [
       "<div>\n",
       "<style scoped>\n",
       "    .dataframe tbody tr th:only-of-type {\n",
       "        vertical-align: middle;\n",
       "    }\n",
       "\n",
       "    .dataframe tbody tr th {\n",
       "        vertical-align: top;\n",
       "    }\n",
       "\n",
       "    .dataframe thead th {\n",
       "        text-align: right;\n",
       "    }\n",
       "</style>\n",
       "<table border=\"1\" class=\"dataframe\">\n",
       "  <thead>\n",
       "    <tr style=\"text-align: right;\">\n",
       "      <th></th>\n",
       "      <th>Age</th>\n",
       "      <th>NIHSS</th>\n",
       "      <th>MRS</th>\n",
       "      <th>Destination</th>\n",
       "    </tr>\n",
       "  </thead>\n",
       "  <tbody>\n",
       "    <tr>\n",
       "      <th>0</th>\n",
       "      <td>67</td>\n",
       "      <td>5</td>\n",
       "      <td>3</td>\n",
       "      <td>0</td>\n",
       "    </tr>\n",
       "    <tr>\n",
       "      <th>1</th>\n",
       "      <td>89</td>\n",
       "      <td>9</td>\n",
       "      <td>2</td>\n",
       "      <td>1</td>\n",
       "    </tr>\n",
       "    <tr>\n",
       "      <th>2</th>\n",
       "      <td>92</td>\n",
       "      <td>10</td>\n",
       "      <td>4</td>\n",
       "      <td>2</td>\n",
       "    </tr>\n",
       "    <tr>\n",
       "      <th>3</th>\n",
       "      <td>98</td>\n",
       "      <td>45</td>\n",
       "      <td>3</td>\n",
       "      <td>3</td>\n",
       "    </tr>\n",
       "  </tbody>\n",
       "</table>\n",
       "</div>"
      ],
      "text/plain": [
       "   Age  NIHSS  MRS  Destination\n",
       "0   67      5    3            0\n",
       "1   89      9    2            1\n",
       "2   92     10    4            2\n",
       "3   98     45    3            3"
      ]
     },
     "execution_count": 97,
     "metadata": {},
     "output_type": "execute_result"
    }
   ],
   "source": [
    "dummy_data"
   ]
  },
  {
   "cell_type": "code",
   "execution_count": 104,
   "metadata": {
    "collapsed": true
   },
   "outputs": [],
   "source": [
    "df_mtx = dummy_data.as_matrix()\n",
    "df_mtx = stats.zscore(df_mtx)"
   ]
  },
  {
   "cell_type": "code",
   "execution_count": 111,
   "metadata": {},
   "outputs": [
    {
     "data": {
      "text/plain": [
       "array([[-1.66447944, -0.75943896,  0.        ],\n",
       "       [ 0.2133948 , -0.51145889, -1.41421356],\n",
       "       [ 0.46946856, -0.44946388,  1.41421356],\n",
       "       [ 0.98161608,  1.72036173,  0.        ]])"
      ]
     },
     "execution_count": 111,
     "metadata": {},
     "output_type": "execute_result"
    }
   ],
   "source": [
    "X = df_mtx[:,:3]\n",
    "X"
   ]
  },
  {
   "cell_type": "code",
   "execution_count": 126,
   "metadata": {
    "collapsed": true
   },
   "outputs": [],
   "source": [
    "y = df_mtx[:,-1]\n",
    "y = [int(np.floor(yy)) + 2 for yy in y]"
   ]
  },
  {
   "cell_type": "code",
   "execution_count": 127,
   "metadata": {},
   "outputs": [
    {
     "data": {
      "text/plain": [
       "[0, 1, 2, 3]"
      ]
     },
     "execution_count": 127,
     "metadata": {},
     "output_type": "execute_result"
    }
   ],
   "source": [
    "y"
   ]
  },
  {
   "cell_type": "code",
   "execution_count": 128,
   "metadata": {
    "collapsed": true
   },
   "outputs": [],
   "source": [
    "X_train, X_test, y_train, y_test = train_test_split(X, y)"
   ]
  },
  {
   "cell_type": "code",
   "execution_count": 129,
   "metadata": {},
   "outputs": [
    {
     "data": {
      "text/plain": [
       "array([[ 0.2133948 , -0.51145889, -1.41421356],\n",
       "       [ 0.46946856, -0.44946388,  1.41421356],\n",
       "       [ 0.98161608,  1.72036173,  0.        ]])"
      ]
     },
     "execution_count": 129,
     "metadata": {},
     "output_type": "execute_result"
    }
   ],
   "source": [
    "X_train"
   ]
  },
  {
   "cell_type": "code",
   "execution_count": 130,
   "metadata": {
    "collapsed": true
   },
   "outputs": [],
   "source": [
    "lr = LogisticRegression()"
   ]
  },
  {
   "cell_type": "code",
   "execution_count": 131,
   "metadata": {},
   "outputs": [
    {
     "data": {
      "text/plain": [
       "LogisticRegression(C=1.0, class_weight=None, dual=False, fit_intercept=True,\n",
       "          intercept_scaling=1, max_iter=100, multi_class='ovr', n_jobs=1,\n",
       "          penalty='l2', random_state=None, solver='liblinear', tol=0.0001,\n",
       "          verbose=0, warm_start=False)"
      ]
     },
     "execution_count": 131,
     "metadata": {},
     "output_type": "execute_result"
    }
   ],
   "source": [
    "lr.fit(X_train, y_train)"
   ]
  },
  {
   "cell_type": "code",
   "execution_count": 134,
   "metadata": {},
   "outputs": [
    {
     "data": {
      "text/plain": [
       "array([1])"
      ]
     },
     "execution_count": 134,
     "metadata": {},
     "output_type": "execute_result"
    }
   ],
   "source": [
    "lr.predict(X_test)"
   ]
  },
  {
   "cell_type": "code",
   "execution_count": 135,
   "metadata": {},
   "outputs": [
    {
     "data": {
      "text/plain": [
       "[0]"
      ]
     },
     "execution_count": 135,
     "metadata": {},
     "output_type": "execute_result"
    }
   ],
   "source": [
    "y_test"
   ]
  },
  {
   "cell_type": "markdown",
   "metadata": {},
   "source": [
    "### Real Data"
   ]
  },
  {
   "cell_type": "code",
   "execution_count": 37,
   "metadata": {
    "collapsed": true
   },
   "outputs": [],
   "source": [
    "df = pd.read_excel('../data/Discharge destinations 2.xlsx', \n",
    "                   sheet_name='Regression analysis',\n",
    "                  header=2)\n",
    "\n",
    "df.reset_index(inplace=True)\n",
    "df.drop(['index', 'Key'], axis=1, inplace=True)\n",
    "outcome_dict={0:'Home', 1:'CH', 2:'Inpatient', 3:'Death'}\n",
    "df['Outcome']=df['Outcome'].map(lambda x: outcome_dict[x])"
   ]
  },
  {
   "cell_type": "code",
   "execution_count": 38,
   "metadata": {},
   "outputs": [
    {
     "data": {
      "text/plain": [
       "Age         int64\n",
       "NIHSS       int64\n",
       "MRS         int64\n",
       "Outcome    object\n",
       "dtype: object"
      ]
     },
     "execution_count": 38,
     "metadata": {},
     "output_type": "execute_result"
    }
   ],
   "source": [
    "df.dtypes"
   ]
  },
  {
   "cell_type": "code",
   "execution_count": 39,
   "metadata": {},
   "outputs": [
    {
     "name": "stderr",
     "output_type": "stream",
     "text": [
      "/Users/archy/anaconda/envs/stroke-discharge/lib/python3.6/site-packages/scipy/stats/stats.py:1713: FutureWarning: Using a non-tuple sequence for multidimensional indexing is deprecated; use `arr[tuple(seq)]` instead of `arr[seq]`. In the future this will be interpreted as an array index, `arr[np.array(seq)]`, which will result either in an error or a different result.\n",
      "  return np.add.reduce(sorted[indexer] * weights, axis=axis) / sumval\n"
     ]
    },
    {
     "data": {
      "text/plain": [
       "<seaborn.axisgrid.PairGrid at 0x11597fe80>"
      ]
     },
     "execution_count": 39,
     "metadata": {},
     "output_type": "execute_result"
    },
    {
     "data": {
      "image/png": "[encoded data removed]",
      "text/plain": [
       "<Figure size 620.75x540 with 12 Axes>"
      ]
     },
     "metadata": {
      "needs_background": "light"
     },
     "output_type": "display_data"
    }
   ],
   "source": [
    "sns.pairplot(df, hue='Outcome')"
   ]
  },
  {
   "cell_type": "code",
   "execution_count": 396,
   "metadata": {},
   "outputs": [
    {
     "data": {
      "text/plain": [
       "<matplotlib.axes._subplots.AxesSubplot at 0x11caa67b8>"
      ]
     },
     "execution_count": 396,
     "metadata": {},
     "output_type": "execute_result"
    },
    {
     "data": {
      "image/png": "[encoded data removed]",
      "text/plain": [
       "<Figure size 432x288 with 1 Axes>"
      ]
     },
     "metadata": {},
     "output_type": "display_data"
    }
   ],
   "source": [
    "df.plot.hist(alpha=0.5, bins=50)"
   ]
  },
  {
   "cell_type": "code",
   "execution_count": 397,
   "metadata": {},
   "outputs": [
    {
     "data": {
      "text/plain": [
       "Power_divergenceResult(statistic=166.3523316062176, pvalue=7.79995723517671e-36)"
      ]
     },
     "execution_count": 397,
     "metadata": {},
     "output_type": "execute_result"
    },
    {
     "data": {
      "image/png": "[encoded data removed]",
      "text/plain": [
       "<Figure size 432x288 with 1 Axes>"
      ]
     },
     "metadata": {},
     "output_type": "display_data"
    }
   ],
   "source": [
    "df[(df['MRS']<=2) & (df['NIHSS'] <=9)]['Outcome'].value_counts().plot.bar(stacked=True)\n",
    "stats.chisquare(df[(df['MRS']<=2) & (df['NIHSS'] <=9)]['Outcome'].value_counts())\n",
    "\n"
   ]
  },
  {
   "cell_type": "code",
   "execution_count": 398,
   "metadata": {
    "collapsed": true
   },
   "outputs": [],
   "source": [
    "X = df[['Age', 'NIHSS', 'MRS']].as_matrix() \n",
    "X = stats.zscore(X)\n",
    "\n",
    "y = df['Outcome'].as_matrix()\n",
    "\n",
    "X_train, X_test, y_train, y_test = train_test_split(X, y)"
   ]
  },
  {
   "cell_type": "code",
   "execution_count": 408,
   "metadata": {
    "collapsed": true
   },
   "outputs": [],
   "source": [
    "lr = LogisticRegression(C=0.01)"
   ]
  },
  {
   "cell_type": "code",
   "execution_count": 409,
   "metadata": {},
   "outputs": [
    {
     "data": {
      "text/plain": [
       "LogisticRegression(C=0.01, class_weight=None, dual=False, fit_intercept=True,\n",
       "          intercept_scaling=1, max_iter=100, multi_class='ovr', n_jobs=1,\n",
       "          penalty='l2', random_state=None, solver='liblinear', tol=0.0001,\n",
       "          verbose=0, warm_start=False)"
      ]
     },
     "execution_count": 409,
     "metadata": {},
     "output_type": "execute_result"
    }
   ],
   "source": [
    "lr.fit(X_train, y_train)"
   ]
  },
  {
   "cell_type": "code",
   "execution_count": 410,
   "metadata": {},
   "outputs": [
    {
     "data": {
      "text/plain": [
       "array([1, 1, 1, 1, 1, 1, 1, 1, 1, 1, 1, 1, 1, 1, 2, 2, 3, 1, 2, 3, 3, 1,\n",
       "       1, 3, 1, 1, 1, 3, 1, 1, 1, 1, 1, 1, 1, 3, 3, 0, 1, 3, 1, 1, 2, 2,\n",
       "       1, 3, 1, 1, 1, 3, 1, 1, 1, 3, 1, 1, 3, 1, 1, 1, 1, 1, 1, 1, 3, 2,\n",
       "       1, 1, 3, 1, 1, 1, 1, 1, 1, 2, 3, 1, 3, 3, 1, 1, 2, 1, 1, 1, 3, 1,\n",
       "       1, 1, 2, 1, 1, 1, 3, 1, 2, 1, 1, 1, 1, 1, 2, 3, 1, 3, 1, 3, 1, 3,\n",
       "       1, 1, 3, 1, 1, 1, 1, 3, 3, 3, 2, 0, 1, 1, 1, 1, 3, 1, 1, 1, 1, 1,\n",
       "       1, 1, 1, 1, 1, 1, 2, 1, 3, 1, 1, 1, 1, 1, 1, 1, 1, 1, 1, 1, 1, 2,\n",
       "       3, 2, 1, 3, 3, 3, 1, 1, 1, 1, 1, 1, 1, 1, 1, 1, 1, 1, 1, 1, 3, 1,\n",
       "       1, 0, 2, 1, 1, 1, 1, 1, 1, 1, 1, 2, 1, 1, 2, 1, 1, 1, 1, 3, 1, 1,\n",
       "       1, 1, 1, 1, 3, 1, 1, 1, 1, 3, 2, 1, 1, 3, 3, 2, 1, 1, 1, 3, 1, 1,\n",
       "       1, 1, 1, 1, 2, 1, 1, 3, 1, 1, 1, 1, 1, 1, 3, 1, 1, 3, 3, 2, 1, 2,\n",
       "       2, 3, 1, 1, 1, 2, 1, 1, 1, 1, 1, 3, 3, 3, 1, 3, 1, 1, 1, 1, 1, 1,\n",
       "       1, 1, 1, 1, 1, 3, 1, 1, 0, 0, 1, 3, 1, 1, 1, 1, 1, 2, 3])"
      ]
     },
     "execution_count": 410,
     "metadata": {},
     "output_type": "execute_result"
    }
   ],
   "source": [
    "lr.predict(X_test)"
   ]
  },
  {
   "cell_type": "code",
   "execution_count": 411,
   "metadata": {},
   "outputs": [
    {
     "data": {
      "text/plain": [
       "0.5936395759717314"
      ]
     },
     "execution_count": 411,
     "metadata": {},
     "output_type": "execute_result"
    }
   ],
   "source": [
    "lr.score(X_test, y_test) # This reports accuracy"
   ]
  },
  {
   "cell_type": "code",
   "execution_count": 412,
   "metadata": {
    "collapsed": true
   },
   "outputs": [],
   "source": [
    "lr.fit_intercept=True"
   ]
  },
  {
   "cell_type": "code",
   "execution_count": 413,
   "metadata": {},
   "outputs": [
    {
     "data": {
      "text/plain": [
       "LogisticRegression(C=0.01, class_weight=None, dual=False, fit_intercept=True,\n",
       "          intercept_scaling=1, max_iter=100, multi_class='ovr', n_jobs=1,\n",
       "          penalty='l2', random_state=None, solver='liblinear', tol=0.0001,\n",
       "          verbose=0, warm_start=False)"
      ]
     },
     "execution_count": 413,
     "metadata": {},
     "output_type": "execute_result"
    }
   ],
   "source": [
    "lr.fit(X_train, y_train)"
   ]
  },
  {
   "cell_type": "code",
   "execution_count": 414,
   "metadata": {},
   "outputs": [
    {
     "data": {
      "text/plain": [
       "0.5936395759717314"
      ]
     },
     "execution_count": 414,
     "metadata": {},
     "output_type": "execute_result"
    }
   ],
   "source": [
    "lr.score(X_test, y_test) # This reports accuracy"
   ]
  },
  {
   "cell_type": "markdown",
   "metadata": {},
   "source": [
    "## Try with an SVM"
   ]
  },
  {
   "cell_type": "code",
   "execution_count": 417,
   "metadata": {
    "collapsed": true
   },
   "outputs": [],
   "source": [
    "s_v_m = svm.SVC()"
   ]
  },
  {
   "cell_type": "code",
   "execution_count": 418,
   "metadata": {},
   "outputs": [
    {
     "data": {
      "text/plain": [
       "SVC(C=1.0, cache_size=200, class_weight=None, coef0=0.0,\n",
       "  decision_function_shape='ovr', degree=3, gamma='auto', kernel='rbf',\n",
       "  max_iter=-1, probability=False, random_state=None, shrinking=True,\n",
       "  tol=0.001, verbose=False)"
      ]
     },
     "execution_count": 418,
     "metadata": {},
     "output_type": "execute_result"
    }
   ],
   "source": [
    "s_v_m.fit(X_train, y_train)"
   ]
  },
  {
   "cell_type": "code",
   "execution_count": 419,
   "metadata": {},
   "outputs": [
    {
     "data": {
      "text/plain": [
       "0.6431095406360424"
      ]
     },
     "execution_count": 419,
     "metadata": {},
     "output_type": "execute_result"
    }
   ],
   "source": [
    "s_v_m.score(X_test, y_test)"
   ]
  },
  {
   "cell_type": "markdown",
   "metadata": {},
   "source": [
    "## Random Forest"
   ]
  },
  {
   "cell_type": "code",
   "execution_count": 435,
   "metadata": {
    "collapsed": true
   },
   "outputs": [],
   "source": [
    "rf = AdaBoostClassifier(RandomForestClassifier(), n_estimators=100)"
   ]
  },
  {
   "cell_type": "code",
   "execution_count": 436,
   "metadata": {},
   "outputs": [
    {
     "data": {
      "text/plain": [
       "AdaBoostClassifier(algorithm='SAMME.R',\n",
       "          base_estimator=RandomForestClassifier(bootstrap=True, class_weight=None, criterion='gini',\n",
       "            max_depth=None, max_features='auto', max_leaf_nodes=None,\n",
       "            min_impurity_decrease=0.0, min_impurity_split=None,\n",
       "            min_samples_leaf=1, min_samples_split=2,\n",
       "            min_weight_fraction_leaf=0.0, n_estimators=10, n_jobs=1,\n",
       "            oob_score=False, random_state=None, verbose=0,\n",
       "            warm_start=False),\n",
       "          learning_rate=1.0, n_estimators=100, random_state=None)"
      ]
     },
     "execution_count": 436,
     "metadata": {},
     "output_type": "execute_result"
    }
   ],
   "source": [
    "rf.fit(X_train, y_train)"
   ]
  },
  {
   "cell_type": "code",
   "execution_count": 437,
   "metadata": {},
   "outputs": [
    {
     "data": {
      "text/plain": [
       "0.6113074204946997"
      ]
     },
     "execution_count": 437,
     "metadata": {},
     "output_type": "execute_result"
    }
   ],
   "source": [
    "rf.score(X_test, y_test)"
   ]
  },
  {
   "cell_type": "markdown",
   "metadata": {},
   "source": [
    "# Baseline model"
   ]
  },
  {
   "cell_type": "code",
   "execution_count": 301,
   "metadata": {
    "collapsed": true
   },
   "outputs": [],
   "source": [
    "dc = DummyClassifier()"
   ]
  },
  {
   "cell_type": "code",
   "execution_count": 302,
   "metadata": {},
   "outputs": [
    {
     "data": {
      "text/plain": [
       "DummyClassifier(constant=None, random_state=None, strategy='stratified')"
      ]
     },
     "execution_count": 302,
     "metadata": {},
     "output_type": "execute_result"
    }
   ],
   "source": [
    "dc.fit(X_train, y_train)"
   ]
  },
  {
   "cell_type": "code",
   "execution_count": 303,
   "metadata": {},
   "outputs": [
    {
     "data": {
      "text/plain": [
       "0.3286219081272085"
      ]
     },
     "execution_count": 303,
     "metadata": {},
     "output_type": "execute_result"
    }
   ],
   "source": [
    "dc.score(X_test, y_test)"
   ]
  },
  {
   "cell_type": "markdown",
   "metadata": {},
   "source": [
    "## Statsmodel"
   ]
  },
  {
   "cell_type": "code",
   "execution_count": 306,
   "metadata": {},
   "outputs": [
    {
     "data": {
      "text/plain": [
       "array([2, 1, 3, 3, 2, 2, 2, 1, 2, 3, 1, 3, 2, 2, 2, 2, 1, 1, 2, 1, 1, 1,\n",
       "       3, 1, 1, 1, 1, 3, 0, 2, 1, 2, 1, 2, 2, 3, 1, 0, 2, 1, 2, 3, 2, 0,\n",
       "       2, 1, 2, 1, 1, 3, 1, 2, 1, 1, 1, 2, 3, 1, 1, 1, 2, 1, 0, 2, 2, 2,\n",
       "       1, 2, 3, 0, 3, 1, 2, 2, 0, 1, 3, 1, 2, 1, 0, 0, 1, 1, 1, 1, 1, 2,\n",
       "       1, 1, 1, 3, 3, 1, 0, 1, 1, 1, 1, 3, 3, 1, 2, 3, 1, 1, 3, 2, 2, 1,\n",
       "       1, 1, 2, 1, 3, 0, 1, 1, 1, 1, 2, 2, 0, 0, 1, 3, 1, 1, 1, 2, 1, 1,\n",
       "       2, 2, 3, 2, 3, 2, 1, 1, 3, 2, 1, 1, 2, 2, 2, 1, 1, 2, 1, 1, 2, 3,\n",
       "       1, 1, 3, 1, 1, 1, 1, 1, 3, 1, 2, 1, 3, 2, 1, 1, 1, 1, 3, 1, 2, 0,\n",
       "       3, 1, 3, 2, 0, 1, 1, 1, 2, 3, 1, 1, 2, 1, 3, 0, 1, 3, 0, 0, 2, 2,\n",
       "       2, 0, 1, 2, 2, 0, 1, 1, 2, 2, 2, 1, 2, 3, 1, 1, 0, 3, 1, 2, 2, 1,\n",
       "       1, 2, 2, 1, 3, 1, 0, 2, 3, 3, 3, 3, 2, 0, 1, 1, 3, 1, 1, 1, 2, 1,\n",
       "       1, 1, 1, 2, 1, 1, 1, 3, 1, 1, 2, 3, 2, 1, 2, 1, 1, 1, 1, 0, 2, 3,\n",
       "       1, 3, 2, 2, 1, 0, 1, 1, 2, 1, 2, 2, 0, 1, 1, 3, 2, 3, 1, 1, 2, 0,\n",
       "       1, 2, 3, 1, 1, 2, 2, 0, 3, 3, 1, 1, 1, 1, 2, 3, 1, 0, 0, 2, 2, 1,\n",
       "       2, 0, 3, 1, 0, 3, 1, 1, 1, 1, 0, 1, 1, 1, 3, 1, 1, 3, 2, 0, 2, 1,\n",
       "       3, 1, 2, 1, 1, 2, 1, 0, 1, 1, 1, 1, 1, 1, 1, 3, 3, 0, 2, 2, 2, 1,\n",
       "       3, 3, 1, 1, 1, 2, 2, 2, 2, 2, 1, 2, 2, 0, 2, 3, 1, 1, 1, 1, 3, 2,\n",
       "       1, 1, 1, 2, 0, 1, 2, 1, 1, 2, 1, 1, 1, 0, 2, 2, 1, 2, 1, 1, 2, 1,\n",
       "       1, 2, 2, 3, 3, 2, 3, 3, 1, 2, 2, 2, 2, 2, 1, 1, 2, 2, 1, 1, 2, 1,\n",
       "       3, 2, 2, 1, 1, 3, 0, 3, 1, 1, 1, 2, 1, 2, 1, 3, 2, 2, 0, 0, 1, 1,\n",
       "       2, 1, 2, 1, 1, 1, 3, 3, 2, 1, 2, 2, 1, 1, 1, 2, 1, 1, 1, 1, 3, 0,\n",
       "       3, 2, 0, 1, 0, 1, 2, 1, 2, 2, 1, 2, 2, 2, 1, 0, 0, 1, 0, 2, 3, 3,\n",
       "       1, 3, 1, 1, 2, 2, 1, 1, 2, 0, 2, 2, 1, 2, 2, 1, 1, 2, 3, 1, 1, 1,\n",
       "       3, 1, 1, 2, 1, 2, 2, 1, 3, 1, 1, 1, 3, 1, 3, 2, 1, 3, 1, 1, 1, 1,\n",
       "       3, 1, 1, 1, 2, 1, 3, 1, 1, 1, 1, 2, 1, 2, 0, 2, 0, 1, 1, 1, 1, 1,\n",
       "       3, 1, 2, 1, 1, 2, 2, 1, 1, 2, 1, 1, 3, 2, 1, 1, 2, 1, 1, 1, 3, 1,\n",
       "       2, 2, 3, 3, 2, 3, 1, 1, 3, 0, 0, 2, 3, 1, 3, 1, 0, 1, 0, 1, 3, 3,\n",
       "       3, 2, 1, 2, 1, 2, 2, 1, 1, 1, 2, 1, 1, 3, 2, 0, 1, 3, 1, 1, 1, 2,\n",
       "       3, 1, 2, 0, 1, 3, 2, 1, 1, 2, 1, 1, 1, 2, 1, 1, 2, 1, 1, 2, 1, 2,\n",
       "       1, 0, 1, 0, 1, 3, 3, 0, 2, 1, 1, 1, 2, 3, 1, 1, 2, 2, 3, 2, 3, 2,\n",
       "       1, 2, 1, 1, 1, 1, 1, 1, 1, 2, 1, 1, 1, 1, 1, 1, 2, 1, 1, 1, 2, 3,\n",
       "       2, 2, 1, 1, 1, 1, 3, 2, 1, 2, 3, 1, 1, 0, 1, 1, 1, 3, 3, 1, 1, 3,\n",
       "       1, 2, 2, 2, 1, 1, 3, 1, 0, 2, 1, 1, 1, 2, 1, 3, 3, 1, 2, 1, 3, 1,\n",
       "       2, 2, 1, 1, 1, 1, 2, 1, 2, 1, 1, 1, 1, 2, 3, 1, 0, 2, 1, 0, 2, 1,\n",
       "       1, 3, 1, 2, 1, 1, 1, 2, 3, 0, 1, 2, 1, 2, 1, 1, 0, 0, 2, 1, 1, 1,\n",
       "       2, 1, 1, 3, 0, 1, 1, 1, 1, 1, 1, 3, 1, 2, 2, 0, 2, 1, 2, 1, 1, 3,\n",
       "       1, 3, 1, 1, 1, 1, 1, 1, 0, 1, 2, 3, 3, 1, 3, 1, 3, 1, 1, 0, 1, 1,\n",
       "       1, 1, 2, 1, 1, 2, 1, 1, 2, 2, 1, 3, 0, 1, 1, 2, 0, 1, 2, 1, 3, 3,\n",
       "       3, 3, 3, 2, 1, 1, 1, 0, 2, 2, 1, 1])"
      ]
     },
     "execution_count": 306,
     "metadata": {},
     "output_type": "execute_result"
    }
   ],
   "source": [
    "y_train"
   ]
  },
  {
   "cell_type": "code",
   "execution_count": 307,
   "metadata": {
    "collapsed": true
   },
   "outputs": [],
   "source": [
    "X_train = sm.add_constant(X_train)\n",
    "sm_lr = sm.MNLogit(y_train, X_train)"
   ]
  },
  {
   "cell_type": "code",
   "execution_count": 308,
   "metadata": {},
   "outputs": [
    {
     "name": "stdout",
     "output_type": "stream",
     "text": [
      "Optimization terminated successfully.\n",
      "         Current function value: 0.732295\n",
      "         Iterations 8\n"
     ]
    }
   ],
   "source": [
    "result = sm_lr.fit()"
   ]
  },
  {
   "cell_type": "code",
   "execution_count": 309,
   "metadata": {},
   "outputs": [
    {
     "data": {
      "text/plain": [
       "array([[2.03339696e-27, 6.47190570e-13, 8.69284574e-05],\n",
       "       [2.68237781e-07, 5.98925758e-02, 5.48521689e-04],\n",
       "       [1.81172897e-07, 7.79442055e-29, 1.40473705e-17],\n",
       "       [1.11227743e-10, 5.88524990e-01, 9.40371059e-14]])"
      ]
     },
     "execution_count": 309,
     "metadata": {},
     "output_type": "execute_result"
    }
   ],
   "source": [
    "result.pvalues"
   ]
  },
  {
   "cell_type": "code",
   "execution_count": 310,
   "metadata": {
    "collapsed": true
   },
   "outputs": [],
   "source": [
    "# Workaround from https://github.com/statsmodels/statsmodels/issues/3931\n",
    "from scipy import stats\n",
    "stats.chisqprob = lambda chisq, df: stats.chi2.sf(chisq, df)"
   ]
  },
  {
   "cell_type": "code",
   "execution_count": 311,
   "metadata": {},
   "outputs": [
    {
     "data": {
      "text/html": [
       "<table class=\"simpletable\">\n",
       "<caption>MNLogit Regression Results</caption>\n",
       "<tr>\n",
       "  <th>Dep. Variable:</th>         <td>y</td>        <th>  No. Observations:  </th>   <td>   848</td>  \n",
       "</tr>\n",
       "<tr>\n",
       "  <th>Model:</th>              <td>MNLogit</td>     <th>  Df Residuals:      </th>   <td>   836</td>  \n",
       "</tr>\n",
       "<tr>\n",
       "  <th>Method:</th>               <td>MLE</td>       <th>  Df Model:          </th>   <td>     9</td>  \n",
       "</tr>\n",
       "<tr>\n",
       "  <th>Date:</th>          <td>Tue, 24 Apr 2018</td> <th>  Pseudo R-squ.:     </th>   <td>0.3933</td>  \n",
       "</tr>\n",
       "<tr>\n",
       "  <th>Time:</th>              <td>07:18:52</td>     <th>  Log-Likelihood:    </th>  <td> -620.99</td> \n",
       "</tr>\n",
       "<tr>\n",
       "  <th>converged:</th>           <td>True</td>       <th>  LL-Null:           </th>  <td> -1023.5</td> \n",
       "</tr>\n",
       "<tr>\n",
       "  <th> </th>                      <td> </td>        <th>  LLR p-value:       </th> <td>1.822e-167</td>\n",
       "</tr>\n",
       "</table>\n",
       "<table class=\"simpletable\">\n",
       "<tr>\n",
       "   <th>y=1</th>     <th>coef</th>     <th>std err</th>      <th>z</th>      <th>P>|z|</th>  <th>[0.025</th>    <th>0.975]</th>  \n",
       "</tr>\n",
       "<tr>\n",
       "  <th>const</th> <td>    2.2523</td> <td>    0.208</td> <td>   10.848</td> <td> 0.000</td> <td>    1.845</td> <td>    2.659</td>\n",
       "</tr>\n",
       "<tr>\n",
       "  <th>x1</th>    <td>   -1.0549</td> <td>    0.205</td> <td>   -5.144</td> <td> 0.000</td> <td>   -1.457</td> <td>   -0.653</td>\n",
       "</tr>\n",
       "<tr>\n",
       "  <th>x2</th>    <td>   -0.7112</td> <td>    0.136</td> <td>   -5.218</td> <td> 0.000</td> <td>   -0.978</td> <td>   -0.444</td>\n",
       "</tr>\n",
       "<tr>\n",
       "  <th>x3</th>    <td>    1.4933</td> <td>    0.231</td> <td>    6.451</td> <td> 0.000</td> <td>    1.040</td> <td>    1.947</td>\n",
       "</tr>\n",
       "<tr>\n",
       "   <th>y=2</th>     <th>coef</th>     <th>std err</th>      <th>z</th>      <th>P>|z|</th>  <th>[0.025</th>    <th>0.975]</th>  \n",
       "</tr>\n",
       "<tr>\n",
       "  <th>const</th> <td>    1.5818</td> <td>    0.220</td> <td>    7.190</td> <td> 0.000</td> <td>    1.151</td> <td>    2.013</td>\n",
       "</tr>\n",
       "<tr>\n",
       "  <th>x1</th>    <td>   -0.4273</td> <td>    0.227</td> <td>   -1.882</td> <td> 0.060</td> <td>   -0.872</td> <td>    0.018</td>\n",
       "</tr>\n",
       "<tr>\n",
       "  <th>x2</th>    <td>   -2.3525</td> <td>    0.211</td> <td>  -11.142</td> <td> 0.000</td> <td>   -2.766</td> <td>   -1.939</td>\n",
       "</tr>\n",
       "<tr>\n",
       "  <th>x3</th>    <td>    0.1390</td> <td>    0.257</td> <td>    0.541</td> <td> 0.589</td> <td>   -0.365</td> <td>    0.643</td>\n",
       "</tr>\n",
       "<tr>\n",
       "   <th>y=3</th>     <th>coef</th>     <th>std err</th>      <th>z</th>      <th>P>|z|</th>  <th>[0.025</th>    <th>0.975]</th>  \n",
       "</tr>\n",
       "<tr>\n",
       "  <th>const</th> <td>   -1.6843</td> <td>    0.429</td> <td>   -3.924</td> <td> 0.000</td> <td>   -2.526</td> <td>   -0.843</td>\n",
       "</tr>\n",
       "<tr>\n",
       "  <th>x1</th>    <td>    1.0062</td> <td>    0.291</td> <td>    3.456</td> <td> 0.001</td> <td>    0.436</td> <td>    1.577</td>\n",
       "</tr>\n",
       "<tr>\n",
       "  <th>x2</th>    <td>   -3.4295</td> <td>    0.402</td> <td>   -8.535</td> <td> 0.000</td> <td>   -4.217</td> <td>   -2.642</td>\n",
       "</tr>\n",
       "<tr>\n",
       "  <th>x3</th>    <td>   -2.9409</td> <td>    0.395</td> <td>   -7.449</td> <td> 0.000</td> <td>   -3.715</td> <td>   -2.167</td>\n",
       "</tr>\n",
       "</table>"
      ],
      "text/plain": [
       "<class 'statsmodels.iolib.summary.Summary'>\n",
       "\"\"\"\n",
       "                          MNLogit Regression Results                          \n",
       "==============================================================================\n",
       "Dep. Variable:                      y   No. Observations:                  848\n",
       "Model:                        MNLogit   Df Residuals:                      836\n",
       "Method:                           MLE   Df Model:                            9\n",
       "Date:                Tue, 24 Apr 2018   Pseudo R-squ.:                  0.3933\n",
       "Time:                        07:18:52   Log-Likelihood:                -620.99\n",
       "converged:                       True   LL-Null:                       -1023.5\n",
       "                                        LLR p-value:                1.822e-167\n",
       "==============================================================================\n",
       "       y=1       coef    std err          z      P>|z|      [0.025      0.975]\n",
       "------------------------------------------------------------------------------\n",
       "const          2.2523      0.208     10.848      0.000       1.845       2.659\n",
       "x1            -1.0549      0.205     -5.144      0.000      -1.457      -0.653\n",
       "x2            -0.7112      0.136     -5.218      0.000      -0.978      -0.444\n",
       "x3             1.4933      0.231      6.451      0.000       1.040       1.947\n",
       "------------------------------------------------------------------------------\n",
       "       y=2       coef    std err          z      P>|z|      [0.025      0.975]\n",
       "------------------------------------------------------------------------------\n",
       "const          1.5818      0.220      7.190      0.000       1.151       2.013\n",
       "x1            -0.4273      0.227     -1.882      0.060      -0.872       0.018\n",
       "x2            -2.3525      0.211    -11.142      0.000      -2.766      -1.939\n",
       "x3             0.1390      0.257      0.541      0.589      -0.365       0.643\n",
       "------------------------------------------------------------------------------\n",
       "       y=3       coef    std err          z      P>|z|      [0.025      0.975]\n",
       "------------------------------------------------------------------------------\n",
       "const         -1.6843      0.429     -3.924      0.000      -2.526      -0.843\n",
       "x1             1.0062      0.291      3.456      0.001       0.436       1.577\n",
       "x2            -3.4295      0.402     -8.535      0.000      -4.217      -2.642\n",
       "x3            -2.9409      0.395     -7.449      0.000      -3.715      -2.167\n",
       "==============================================================================\n",
       "\"\"\""
      ]
     },
     "execution_count": 311,
     "metadata": {},
     "output_type": "execute_result"
    }
   ],
   "source": [
    "result.summary()"
   ]
  },
  {
   "cell_type": "markdown",
   "metadata": {},
   "source": [
    "## Feature correlations"
   ]
  },
  {
   "cell_type": "code",
   "execution_count": 312,
   "metadata": {},
   "outputs": [
    {
     "name": "stderr",
     "output_type": "stream",
     "text": [
      "/Users/archydeberker/anaconda3/lib/python3.6/site-packages/numpy/lib/function_base.py:3183: RuntimeWarning: invalid value encountered in true_divide\n",
      "  c /= stddev[:, None]\n",
      "/Users/archydeberker/anaconda3/lib/python3.6/site-packages/numpy/lib/function_base.py:3184: RuntimeWarning: invalid value encountered in true_divide\n",
      "  c /= stddev[None, :]\n"
     ]
    },
    {
     "data": {
      "text/plain": [
       "<matplotlib.colorbar.Colorbar at 0x11863b828>"
      ]
     },
     "execution_count": 312,
     "metadata": {},
     "output_type": "execute_result"
    },
    {
     "data": {
      "image/png": "[encoded data removed]",
      "text/plain": [
       "<Figure size 432x288 with 2 Axes>"
      ]
     },
     "metadata": {},
     "output_type": "display_data"
    }
   ],
   "source": [
    "plt.imshow(np.corrcoef(X_train.T), vmin=0, vmax=1)\n",
    "plt.colorbar()"
   ]
  },
  {
   "cell_type": "code",
   "execution_count": 313,
   "metadata": {},
   "outputs": [
    {
     "data": {
      "text/plain": [
       "<matplotlib.collections.PathCollection at 0x11ad75a20>"
      ]
     },
     "execution_count": 313,
     "metadata": {},
     "output_type": "execute_result"
    },
    {
     "data": {
      "image/png": "[encoded data removed]",
      "text/plain": [
       "<Figure size 432x288 with 1 Axes>"
      ]
     },
     "metadata": {},
     "output_type": "display_data"
    }
   ],
   "source": [
    "plt.scatter(X_train[:,1], X_train[:,2])"
   ]
  },
  {
   "cell_type": "code",
   "execution_count": 318,
   "metadata": {},
   "outputs": [
    {
     "data": {
      "text/plain": [
       "<matplotlib.axes._subplots.AxesSubplot at 0x11ada0390>"
      ]
     },
     "execution_count": 318,
     "metadata": {},
     "output_type": "execute_result"
    },
    {
     "data": {
      "image/png": "[encoded data removed]",
      "text/plain": [
       "<Figure size 432x288 with 1 Axes>"
      ]
     },
     "metadata": {},
     "output_type": "display_data"
    }
   ],
   "source": [
    "df.plot.scatter('MRS', 'NIHSS')"
   ]
  },
  {
   "cell_type": "code",
   "execution_count": 319,
   "metadata": {},
   "outputs": [
    {
     "data": {
      "text/html": [
       "<div>\n",
       "<style scoped>\n",
       "    .dataframe tbody tr th:only-of-type {\n",
       "        vertical-align: middle;\n",
       "    }\n",
       "\n",
       "    .dataframe tbody tr th {\n",
       "        vertical-align: top;\n",
       "    }\n",
       "\n",
       "    .dataframe thead th {\n",
       "        text-align: right;\n",
       "    }\n",
       "</style>\n",
       "<table border=\"1\" class=\"dataframe\">\n",
       "  <thead>\n",
       "    <tr style=\"text-align: right;\">\n",
       "      <th></th>\n",
       "      <th>index</th>\n",
       "      <th>Age</th>\n",
       "      <th>NIHSS</th>\n",
       "      <th>MRS</th>\n",
       "      <th>Outcome</th>\n",
       "    </tr>\n",
       "  </thead>\n",
       "  <tbody>\n",
       "    <tr>\n",
       "      <th>index</th>\n",
       "      <td>NaN</td>\n",
       "      <td>NaN</td>\n",
       "      <td>NaN</td>\n",
       "      <td>NaN</td>\n",
       "      <td>NaN</td>\n",
       "    </tr>\n",
       "    <tr>\n",
       "      <th>Age</th>\n",
       "      <td>NaN</td>\n",
       "      <td>1.000000</td>\n",
       "      <td>-0.036907</td>\n",
       "      <td>0.482974</td>\n",
       "      <td>-0.047996</td>\n",
       "    </tr>\n",
       "    <tr>\n",
       "      <th>NIHSS</th>\n",
       "      <td>NaN</td>\n",
       "      <td>-0.036907</td>\n",
       "      <td>1.000000</td>\n",
       "      <td>0.035380</td>\n",
       "      <td>-0.549533</td>\n",
       "    </tr>\n",
       "    <tr>\n",
       "      <th>MRS</th>\n",
       "      <td>NaN</td>\n",
       "      <td>0.482974</td>\n",
       "      <td>0.035380</td>\n",
       "      <td>1.000000</td>\n",
       "      <td>-0.407857</td>\n",
       "    </tr>\n",
       "    <tr>\n",
       "      <th>Outcome</th>\n",
       "      <td>NaN</td>\n",
       "      <td>-0.047996</td>\n",
       "      <td>-0.549533</td>\n",
       "      <td>-0.407857</td>\n",
       "      <td>1.000000</td>\n",
       "    </tr>\n",
       "  </tbody>\n",
       "</table>\n",
       "</div>"
      ],
      "text/plain": [
       "         index       Age     NIHSS       MRS   Outcome\n",
       "index      NaN       NaN       NaN       NaN       NaN\n",
       "Age        NaN  1.000000 -0.036907  0.482974 -0.047996\n",
       "NIHSS      NaN -0.036907  1.000000  0.035380 -0.549533\n",
       "MRS        NaN  0.482974  0.035380  1.000000 -0.407857\n",
       "Outcome    NaN -0.047996 -0.549533 -0.407857  1.000000"
      ]
     },
     "execution_count": 319,
     "metadata": {},
     "output_type": "execute_result"
    }
   ],
   "source": [
    "df.corr()"
   ]
  },
  {
   "cell_type": "markdown",
   "metadata": {},
   "source": [
    "## Excluding death"
   ]
  },
  {
   "cell_type": "code",
   "execution_count": 340,
   "metadata": {
    "collapsed": true
   },
   "outputs": [],
   "source": [
    "df = df[df['Outcome'] != 0]"
   ]
  },
  {
   "cell_type": "code",
   "execution_count": 341,
   "metadata": {},
   "outputs": [
    {
     "data": {
      "text/plain": [
       "1025"
      ]
     },
     "execution_count": 341,
     "metadata": {},
     "output_type": "execute_result"
    }
   ],
   "source": [
    "len(df)"
   ]
  },
  {
   "cell_type": "code",
   "execution_count": 342,
   "metadata": {},
   "outputs": [
    {
     "data": {
      "text/html": [
       "<div>\n",
       "<style scoped>\n",
       "    .dataframe tbody tr th:only-of-type {\n",
       "        vertical-align: middle;\n",
       "    }\n",
       "\n",
       "    .dataframe tbody tr th {\n",
       "        vertical-align: top;\n",
       "    }\n",
       "\n",
       "    .dataframe thead th {\n",
       "        text-align: right;\n",
       "    }\n",
       "</style>\n",
       "<table border=\"1\" class=\"dataframe\">\n",
       "  <thead>\n",
       "    <tr style=\"text-align: right;\">\n",
       "      <th></th>\n",
       "      <th>index</th>\n",
       "      <th>Age</th>\n",
       "      <th>NIHSS</th>\n",
       "      <th>MRS</th>\n",
       "      <th>Outcome</th>\n",
       "    </tr>\n",
       "  </thead>\n",
       "  <tbody>\n",
       "    <tr>\n",
       "      <th>index</th>\n",
       "      <td>NaN</td>\n",
       "      <td>NaN</td>\n",
       "      <td>NaN</td>\n",
       "      <td>NaN</td>\n",
       "      <td>NaN</td>\n",
       "    </tr>\n",
       "    <tr>\n",
       "      <th>Age</th>\n",
       "      <td>NaN</td>\n",
       "      <td>1.000000</td>\n",
       "      <td>-0.060104</td>\n",
       "      <td>0.497140</td>\n",
       "      <td>-0.018126</td>\n",
       "    </tr>\n",
       "    <tr>\n",
       "      <th>NIHSS</th>\n",
       "      <td>NaN</td>\n",
       "      <td>-0.060104</td>\n",
       "      <td>1.000000</td>\n",
       "      <td>0.140482</td>\n",
       "      <td>-0.435349</td>\n",
       "    </tr>\n",
       "    <tr>\n",
       "      <th>MRS</th>\n",
       "      <td>NaN</td>\n",
       "      <td>0.497140</td>\n",
       "      <td>0.140482</td>\n",
       "      <td>1.000000</td>\n",
       "      <td>-0.570875</td>\n",
       "    </tr>\n",
       "    <tr>\n",
       "      <th>Outcome</th>\n",
       "      <td>NaN</td>\n",
       "      <td>-0.018126</td>\n",
       "      <td>-0.435349</td>\n",
       "      <td>-0.570875</td>\n",
       "      <td>1.000000</td>\n",
       "    </tr>\n",
       "  </tbody>\n",
       "</table>\n",
       "</div>"
      ],
      "text/plain": [
       "         index       Age     NIHSS       MRS   Outcome\n",
       "index      NaN       NaN       NaN       NaN       NaN\n",
       "Age        NaN  1.000000 -0.060104  0.497140 -0.018126\n",
       "NIHSS      NaN -0.060104  1.000000  0.140482 -0.435349\n",
       "MRS        NaN  0.497140  0.140482  1.000000 -0.570875\n",
       "Outcome    NaN -0.018126 -0.435349 -0.570875  1.000000"
      ]
     },
     "execution_count": 342,
     "metadata": {},
     "output_type": "execute_result"
    },
    {
     "data": {
      "image/png": "[encoded data removed]",
      "text/plain": [
       "<Figure size 432x288 with 1 Axes>"
      ]
     },
     "metadata": {},
     "output_type": "display_data"
    }
   ],
   "source": [
    "df.plot.scatter('MRS', 'NIHSS')\n",
    "df.corr()"
   ]
  },
  {
   "cell_type": "code",
   "execution_count": 343,
   "metadata": {},
   "outputs": [
    {
     "data": {
      "text/plain": [
       "<matplotlib.axes._subplots.AxesSubplot at 0x11bcdf518>"
      ]
     },
     "execution_count": 343,
     "metadata": {},
     "output_type": "execute_result"
    },
    {
     "data": {
      "image/png": "[encoded data removed]",
      "text/plain": [
       "<Figure size 432x288 with 1 Axes>"
      ]
     },
     "metadata": {},
     "output_type": "display_data"
    }
   ],
   "source": [
    "df['Outcome'].plot.hist()"
   ]
  },
  {
   "cell_type": "code",
   "execution_count": 344,
   "metadata": {
    "collapsed": true
   },
   "outputs": [],
   "source": [
    "X = df[['Age', 'NIHSS', 'MRS']].as_matrix() \n",
    "X = stats.zscore(X)\n",
    "\n",
    "y = df['Outcome'].as_matrix()\n",
    "\n",
    "X_train, X_test, y_train, y_test = train_test_split(X, y)\n"
   ]
  },
  {
   "cell_type": "code",
   "execution_count": 357,
   "metadata": {},
   "outputs": [
    {
     "data": {
      "text/plain": [
       "(768, 4)"
      ]
     },
     "execution_count": 357,
     "metadata": {},
     "output_type": "execute_result"
    }
   ],
   "source": [
    "X_train.shape"
   ]
  },
  {
   "cell_type": "code",
   "execution_count": 345,
   "metadata": {
    "collapsed": true
   },
   "outputs": [],
   "source": [
    "X_train = sm.add_constant(X_train)\n",
    "sm_lr = sm.MNLogit(y_train, X_train)"
   ]
  },
  {
   "cell_type": "code",
   "execution_count": 346,
   "metadata": {},
   "outputs": [
    {
     "name": "stdout",
     "output_type": "stream",
     "text": [
      "Optimization terminated successfully.\n",
      "         Current function value: 0.603084\n",
      "         Iterations 9\n"
     ]
    }
   ],
   "source": [
    "result = sm_lr.fit()"
   ]
  },
  {
   "cell_type": "code",
   "execution_count": 347,
   "metadata": {},
   "outputs": [
    {
     "data": {
      "text/html": [
       "<table class=\"simpletable\">\n",
       "<caption>MNLogit Regression Results</caption>\n",
       "<tr>\n",
       "  <th>Dep. Variable:</th>         <td>y</td>        <th>  No. Observations:  </th>   <td>   768</td>  \n",
       "</tr>\n",
       "<tr>\n",
       "  <th>Model:</th>              <td>MNLogit</td>     <th>  Df Residuals:      </th>   <td>   760</td>  \n",
       "</tr>\n",
       "<tr>\n",
       "  <th>Method:</th>               <td>MLE</td>       <th>  Df Model:          </th>   <td>     6</td>  \n",
       "</tr>\n",
       "<tr>\n",
       "  <th>Date:</th>          <td>Tue, 24 Apr 2018</td> <th>  Pseudo R-squ.:     </th>   <td>0.3928</td>  \n",
       "</tr>\n",
       "<tr>\n",
       "  <th>Time:</th>              <td>07:33:48</td>     <th>  Log-Likelihood:    </th>  <td> -463.17</td> \n",
       "</tr>\n",
       "<tr>\n",
       "  <th>converged:</th>           <td>True</td>       <th>  LL-Null:           </th>  <td> -762.73</td> \n",
       "</tr>\n",
       "<tr>\n",
       "  <th> </th>                      <td> </td>        <th>  LLR p-value:       </th> <td>3.592e-126</td>\n",
       "</tr>\n",
       "</table>\n",
       "<table class=\"simpletable\">\n",
       "<tr>\n",
       "   <th>y=2</th>     <th>coef</th>     <th>std err</th>      <th>z</th>      <th>P>|z|</th>  <th>[0.025</th>    <th>0.975]</th>  \n",
       "</tr>\n",
       "<tr>\n",
       "  <th>const</th> <td>   -0.4789</td> <td>    0.105</td> <td>   -4.580</td> <td> 0.000</td> <td>   -0.684</td> <td>   -0.274</td>\n",
       "</tr>\n",
       "<tr>\n",
       "  <th>x1</th>    <td>    0.4448</td> <td>    0.127</td> <td>    3.490</td> <td> 0.000</td> <td>    0.195</td> <td>    0.695</td>\n",
       "</tr>\n",
       "<tr>\n",
       "  <th>x2</th>    <td>   -1.2730</td> <td>    0.150</td> <td>   -8.513</td> <td> 0.000</td> <td>   -1.566</td> <td>   -0.980</td>\n",
       "</tr>\n",
       "<tr>\n",
       "  <th>x3</th>    <td>   -1.2101</td> <td>    0.153</td> <td>   -7.908</td> <td> 0.000</td> <td>   -1.510</td> <td>   -0.910</td>\n",
       "</tr>\n",
       "<tr>\n",
       "   <th>y=3</th>     <th>coef</th>     <th>std err</th>      <th>z</th>      <th>P>|z|</th>  <th>[0.025</th>    <th>0.975]</th>  \n",
       "</tr>\n",
       "<tr>\n",
       "  <th>const</th> <td>   -3.6774</td> <td>    0.370</td> <td>   -9.950</td> <td> 0.000</td> <td>   -4.402</td> <td>   -2.953</td>\n",
       "</tr>\n",
       "<tr>\n",
       "  <th>x1</th>    <td>    1.9124</td> <td>    0.237</td> <td>    8.063</td> <td> 0.000</td> <td>    1.448</td> <td>    2.377</td>\n",
       "</tr>\n",
       "<tr>\n",
       "  <th>x2</th>    <td>   -2.4774</td> <td>    0.383</td> <td>   -6.472</td> <td> 0.000</td> <td>   -3.228</td> <td>   -1.727</td>\n",
       "</tr>\n",
       "<tr>\n",
       "  <th>x3</th>    <td>   -4.3071</td> <td>    0.352</td> <td>  -12.246</td> <td> 0.000</td> <td>   -4.996</td> <td>   -3.618</td>\n",
       "</tr>\n",
       "</table>"
      ],
      "text/plain": [
       "<class 'statsmodels.iolib.summary.Summary'>\n",
       "\"\"\"\n",
       "                          MNLogit Regression Results                          \n",
       "==============================================================================\n",
       "Dep. Variable:                      y   No. Observations:                  768\n",
       "Model:                        MNLogit   Df Residuals:                      760\n",
       "Method:                           MLE   Df Model:                            6\n",
       "Date:                Tue, 24 Apr 2018   Pseudo R-squ.:                  0.3928\n",
       "Time:                        07:33:48   Log-Likelihood:                -463.17\n",
       "converged:                       True   LL-Null:                       -762.73\n",
       "                                        LLR p-value:                3.592e-126\n",
       "==============================================================================\n",
       "       y=2       coef    std err          z      P>|z|      [0.025      0.975]\n",
       "------------------------------------------------------------------------------\n",
       "const         -0.4789      0.105     -4.580      0.000      -0.684      -0.274\n",
       "x1             0.4448      0.127      3.490      0.000       0.195       0.695\n",
       "x2            -1.2730      0.150     -8.513      0.000      -1.566      -0.980\n",
       "x3            -1.2101      0.153     -7.908      0.000      -1.510      -0.910\n",
       "------------------------------------------------------------------------------\n",
       "       y=3       coef    std err          z      P>|z|      [0.025      0.975]\n",
       "------------------------------------------------------------------------------\n",
       "const         -3.6774      0.370     -9.950      0.000      -4.402      -2.953\n",
       "x1             1.9124      0.237      8.063      0.000       1.448       2.377\n",
       "x2            -2.4774      0.383     -6.472      0.000      -3.228      -1.727\n",
       "x3            -4.3071      0.352    -12.246      0.000      -4.996      -3.618\n",
       "==============================================================================\n",
       "\"\"\""
      ]
     },
     "execution_count": 347,
     "metadata": {},
     "output_type": "execute_result"
    }
   ],
   "source": [
    "result.summary()"
   ]
  },
  {
   "cell_type": "code",
   "execution_count": 350,
   "metadata": {
    "collapsed": true
   },
   "outputs": [],
   "source": [
    "predictor = result.predict()"
   ]
  },
  {
   "cell_type": "code",
   "execution_count": 353,
   "metadata": {},
   "outputs": [
    {
     "data": {
      "text/plain": [
       "768"
      ]
     },
     "execution_count": 353,
     "metadata": {},
     "output_type": "execute_result"
    }
   ],
   "source": [
    "len(predictor)"
   ]
  },
  {
   "cell_type": "code",
   "execution_count": 354,
   "metadata": {},
   "outputs": [
    {
     "data": {
      "text/plain": [
       "array([[4.64859541e-06, 2.51598934e-23],\n",
       "       [4.83871868e-04, 7.44876328e-16],\n",
       "       [1.69290928e-17, 9.68802235e-11],\n",
       "       [2.61677372e-15, 1.75632169e-34]])"
      ]
     },
     "execution_count": 354,
     "metadata": {},
     "output_type": "execute_result"
    }
   ],
   "source": [
    "result.pvalues"
   ]
  },
  {
   "cell_type": "code",
   "execution_count": 355,
   "metadata": {},
   "outputs": [
    {
     "data": {
      "text/plain": [
       "array([[-0.47886362, -3.67740155],\n",
       "       [ 0.44484866,  1.91237577],\n",
       "       [-1.27297284, -2.47737004],\n",
       "       [-1.21005499, -4.30714878]])"
      ]
     },
     "execution_count": 355,
     "metadata": {},
     "output_type": "execute_result"
    }
   ],
   "source": [
    "result.params"
   ]
  },
  {
   "cell_type": "code",
   "execution_count": null,
   "metadata": {
    "collapsed": true
   },
   "outputs": [],
   "source": []
  }
 ],
 "metadata": {
  "kernelspec": {
   "display_name": "ml-frameworks",
   "language": "python",
   "name": "ml-frameworks"
  },
  "language_info": {
   "codemirror_mode": {
    "name": "ipython",
    "version": 3
   },
   "file_extension": ".py",
   "mimetype": "text/x-python",
   "name": "python",
   "nbconvert_exporter": "python",
   "pygments_lexer": "ipython3",
   "version": "3.6.1"
  }
 },
 "nbformat": 4,
 "nbformat_minor": 2
}
