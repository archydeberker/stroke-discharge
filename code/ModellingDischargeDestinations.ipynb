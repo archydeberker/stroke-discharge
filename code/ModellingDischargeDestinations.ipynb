{
 "cells": [
  {
   "cell_type": "code",
   "execution_count": 9,
   "metadata": {
    "collapsed": false
   },
   "outputs": [
    {
     "ename": "ImportError",
     "evalue": "cannot import name rankdata",
     "output_type": "error",
     "traceback": [
      "\u001b[0;31m---------------------------------------------------------------------------\u001b[0m",
      "\u001b[0;31mImportError\u001b[0m                               Traceback (most recent call last)",
      "\u001b[0;32m<ipython-input-9-964eb90524b6>\u001b[0m in \u001b[0;36m<module>\u001b[0;34m()\u001b[0m\n\u001b[1;32m      4\u001b[0m \u001b[0;32mimport\u001b[0m \u001b[0mmatplotlib\u001b[0m\u001b[0;34m.\u001b[0m\u001b[0mpyplot\u001b[0m \u001b[0;32mas\u001b[0m \u001b[0mplt\u001b[0m\u001b[0;34m\u001b[0m\u001b[0m\n\u001b[1;32m      5\u001b[0m \u001b[0;34m\u001b[0m\u001b[0m\n\u001b[0;32m----> 6\u001b[0;31m \u001b[0;32mfrom\u001b[0m \u001b[0msklearn\u001b[0m\u001b[0;34m.\u001b[0m\u001b[0mmodel_selection\u001b[0m \u001b[0;32mimport\u001b[0m \u001b[0mcross_validate\u001b[0m\u001b[0;34m,\u001b[0m \u001b[0mtrain_test_split\u001b[0m\u001b[0;34m\u001b[0m\u001b[0m\n\u001b[0m\u001b[1;32m      7\u001b[0m \u001b[0;32mfrom\u001b[0m \u001b[0msklearn\u001b[0m\u001b[0;34m.\u001b[0m\u001b[0mlinear_model\u001b[0m \u001b[0;32mimport\u001b[0m \u001b[0mLogisticRegression\u001b[0m\u001b[0;34m\u001b[0m\u001b[0m\n\u001b[1;32m      8\u001b[0m \u001b[0;32mfrom\u001b[0m \u001b[0msklearn\u001b[0m\u001b[0;34m.\u001b[0m\u001b[0mensemble\u001b[0m \u001b[0;32mimport\u001b[0m \u001b[0mRandomForestClassifier\u001b[0m\u001b[0;34m,\u001b[0m \u001b[0mAdaBoostClassifier\u001b[0m\u001b[0;34m\u001b[0m\u001b[0m\n",
      "\u001b[0;32m/users/archy/anaconda/lib/python2.7/site-packages/sklearn/model_selection/__init__.py\u001b[0m in \u001b[0;36m<module>\u001b[0;34m()\u001b[0m\n\u001b[1;32m     21\u001b[0m \u001b[0;32mfrom\u001b[0m \u001b[0;34m.\u001b[0m\u001b[0m_validation\u001b[0m \u001b[0;32mimport\u001b[0m \u001b[0mvalidation_curve\u001b[0m\u001b[0;34m\u001b[0m\u001b[0m\n\u001b[1;32m     22\u001b[0m \u001b[0;34m\u001b[0m\u001b[0m\n\u001b[0;32m---> 23\u001b[0;31m \u001b[0;32mfrom\u001b[0m \u001b[0;34m.\u001b[0m\u001b[0m_search\u001b[0m \u001b[0;32mimport\u001b[0m \u001b[0mGridSearchCV\u001b[0m\u001b[0;34m\u001b[0m\u001b[0m\n\u001b[0m\u001b[1;32m     24\u001b[0m \u001b[0;32mfrom\u001b[0m \u001b[0;34m.\u001b[0m\u001b[0m_search\u001b[0m \u001b[0;32mimport\u001b[0m \u001b[0mRandomizedSearchCV\u001b[0m\u001b[0;34m\u001b[0m\u001b[0m\n\u001b[1;32m     25\u001b[0m \u001b[0;32mfrom\u001b[0m \u001b[0;34m.\u001b[0m\u001b[0m_search\u001b[0m \u001b[0;32mimport\u001b[0m \u001b[0mParameterGrid\u001b[0m\u001b[0;34m\u001b[0m\u001b[0m\n",
      "\u001b[0;32m/users/archy/anaconda/lib/python2.7/site-packages/sklearn/model_selection/_search.py\u001b[0m in \u001b[0;36m<module>\u001b[0;34m()\u001b[0m\n\u001b[1;32m     30\u001b[0m \u001b[0;32mfrom\u001b[0m \u001b[0;34m.\u001b[0m\u001b[0;34m.\u001b[0m\u001b[0mutils\u001b[0m \u001b[0;32mimport\u001b[0m \u001b[0mcheck_random_state\u001b[0m\u001b[0;34m\u001b[0m\u001b[0m\n\u001b[1;32m     31\u001b[0m \u001b[0;32mfrom\u001b[0m \u001b[0;34m.\u001b[0m\u001b[0;34m.\u001b[0m\u001b[0mutils\u001b[0m\u001b[0;34m.\u001b[0m\u001b[0mfixes\u001b[0m \u001b[0;32mimport\u001b[0m \u001b[0msp_version\u001b[0m\u001b[0;34m\u001b[0m\u001b[0m\n\u001b[0;32m---> 32\u001b[0;31m \u001b[0;32mfrom\u001b[0m \u001b[0;34m.\u001b[0m\u001b[0;34m.\u001b[0m\u001b[0mutils\u001b[0m\u001b[0;34m.\u001b[0m\u001b[0mfixes\u001b[0m \u001b[0;32mimport\u001b[0m \u001b[0mrankdata\u001b[0m\u001b[0;34m\u001b[0m\u001b[0m\n\u001b[0m\u001b[1;32m     33\u001b[0m \u001b[0;32mfrom\u001b[0m \u001b[0;34m.\u001b[0m\u001b[0;34m.\u001b[0m\u001b[0mutils\u001b[0m\u001b[0;34m.\u001b[0m\u001b[0mrandom\u001b[0m \u001b[0;32mimport\u001b[0m \u001b[0msample_without_replacement\u001b[0m\u001b[0;34m\u001b[0m\u001b[0m\n\u001b[1;32m     34\u001b[0m \u001b[0;32mfrom\u001b[0m \u001b[0;34m.\u001b[0m\u001b[0;34m.\u001b[0m\u001b[0mutils\u001b[0m\u001b[0;34m.\u001b[0m\u001b[0mvalidation\u001b[0m \u001b[0;32mimport\u001b[0m \u001b[0mindexable\u001b[0m\u001b[0;34m,\u001b[0m \u001b[0mcheck_is_fitted\u001b[0m\u001b[0;34m\u001b[0m\u001b[0m\n",
      "\u001b[0;31mImportError\u001b[0m: cannot import name rankdata"
     ]
    }
   ],
   "source": [
    "import pandas as pd\n",
    "from scipy import stats\n",
    "import numpy as np\n",
    "import matplotlib.pyplot as plt\n",
    "\n",
    "from sklearn.model_selection import cross_validate, train_test_split\n",
    "from sklearn.linear_model import LogisticRegression\n",
    "from sklearn.ensemble import RandomForestClassifier, AdaBoostClassifier\n",
    "from sklearn import svm\n",
    "from sklearn.metrics import confusion_matrix, precision_recall_fscore_support\n",
    "from sklearn.dummy import DummyClassifier\n",
    "\n",
    "#import statsmodels.api as sm\n",
    "import itertools"
   ]
  },
  {
   "cell_type": "code",
   "execution_count": 7,
   "metadata": {
    "collapsed": false
   },
   "outputs": [
    {
     "data": {
      "text/html": [
       "<div>\n",
       "<table border=\"1\" class=\"dataframe\">\n",
       "  <thead>\n",
       "    <tr style=\"text-align: right;\">\n",
       "      <th></th>\n",
       "      <th>index</th>\n",
       "      <th>Age</th>\n",
       "      <th>NIHSS</th>\n",
       "      <th>Unnamed: 2</th>\n",
       "      <th>Unnamed: 3</th>\n",
       "      <th>MRS</th>\n",
       "      <th>Unnamed: 5</th>\n",
       "      <th>Unnamed: 6</th>\n",
       "    </tr>\n",
       "  </thead>\n",
       "  <tbody>\n",
       "    <tr>\n",
       "      <th>0</th>\n",
       "      <td>0</td>\n",
       "      <td>66.0</td>\n",
       "      <td>22</td>\n",
       "      <td>18.9964</td>\n",
       "      <td>17.641509</td>\n",
       "      <td>1</td>\n",
       "      <td>0.786401</td>\n",
       "      <td>1.886792</td>\n",
       "    </tr>\n",
       "    <tr>\n",
       "      <th>1</th>\n",
       "      <td>1</td>\n",
       "      <td>83.0</td>\n",
       "      <td>15</td>\n",
       "      <td>6.97757</td>\n",
       "      <td>17.641509</td>\n",
       "      <td>4</td>\n",
       "      <td>4.465646</td>\n",
       "      <td>1.886792</td>\n",
       "    </tr>\n",
       "    <tr>\n",
       "      <th>2</th>\n",
       "      <td>2</td>\n",
       "      <td>83.0</td>\n",
       "      <td>21</td>\n",
       "      <td>11.2795</td>\n",
       "      <td>17.641509</td>\n",
       "      <td>2</td>\n",
       "      <td>0.012816</td>\n",
       "      <td>1.886792</td>\n",
       "    </tr>\n",
       "    <tr>\n",
       "      <th>3</th>\n",
       "      <td>3</td>\n",
       "      <td>81.0</td>\n",
       "      <td>24</td>\n",
       "      <td>40.4304</td>\n",
       "      <td>17.641509</td>\n",
       "      <td>1</td>\n",
       "      <td>0.786401</td>\n",
       "      <td>1.886792</td>\n",
       "    </tr>\n",
       "    <tr>\n",
       "      <th>4</th>\n",
       "      <td>4</td>\n",
       "      <td>81.0</td>\n",
       "      <td>21</td>\n",
       "      <td>11.2795</td>\n",
       "      <td>17.641509</td>\n",
       "      <td>1</td>\n",
       "      <td>0.786401</td>\n",
       "      <td>1.886792</td>\n",
       "    </tr>\n",
       "    <tr>\n",
       "      <th>5</th>\n",
       "      <td>5</td>\n",
       "      <td>67.0</td>\n",
       "      <td>20</td>\n",
       "      <td>5.56248</td>\n",
       "      <td>17.641509</td>\n",
       "      <td>2</td>\n",
       "      <td>0.012816</td>\n",
       "      <td>1.886792</td>\n",
       "    </tr>\n",
       "    <tr>\n",
       "      <th>6</th>\n",
       "      <td>6</td>\n",
       "      <td>64.0</td>\n",
       "      <td>27</td>\n",
       "      <td>87.5813</td>\n",
       "      <td>17.641509</td>\n",
       "      <td>1</td>\n",
       "      <td>0.786401</td>\n",
       "      <td>1.886792</td>\n",
       "    </tr>\n",
       "    <tr>\n",
       "      <th>7</th>\n",
       "      <td>7</td>\n",
       "      <td>87.0</td>\n",
       "      <td>11</td>\n",
       "      <td>44.1096</td>\n",
       "      <td>17.641509</td>\n",
       "      <td>3</td>\n",
       "      <td>1.239231</td>\n",
       "      <td>1.886792</td>\n",
       "    </tr>\n",
       "    <tr>\n",
       "      <th>8</th>\n",
       "      <td>8</td>\n",
       "      <td>77.0</td>\n",
       "      <td>21</td>\n",
       "      <td>11.2795</td>\n",
       "      <td>17.641509</td>\n",
       "      <td>3</td>\n",
       "      <td>1.239231</td>\n",
       "      <td>1.886792</td>\n",
       "    </tr>\n",
       "    <tr>\n",
       "      <th>9</th>\n",
       "      <td>9</td>\n",
       "      <td>70.0</td>\n",
       "      <td>9</td>\n",
       "      <td>74.6757</td>\n",
       "      <td>17.641509</td>\n",
       "      <td>2</td>\n",
       "      <td>0.012816</td>\n",
       "      <td>1.886792</td>\n",
       "    </tr>\n",
       "    <tr>\n",
       "      <th>10</th>\n",
       "      <td>10</td>\n",
       "      <td>85.0</td>\n",
       "      <td>22</td>\n",
       "      <td>18.9964</td>\n",
       "      <td>17.641509</td>\n",
       "      <td>2</td>\n",
       "      <td>0.012816</td>\n",
       "      <td>1.886792</td>\n",
       "    </tr>\n",
       "    <tr>\n",
       "      <th>11</th>\n",
       "      <td>11</td>\n",
       "      <td>61.0</td>\n",
       "      <td>23</td>\n",
       "      <td>28.7134</td>\n",
       "      <td>17.641509</td>\n",
       "      <td>0</td>\n",
       "      <td>3.559986</td>\n",
       "      <td>1.886792</td>\n",
       "    </tr>\n",
       "    <tr>\n",
       "      <th>12</th>\n",
       "      <td>12</td>\n",
       "      <td>79.0</td>\n",
       "      <td>22</td>\n",
       "      <td>18.9964</td>\n",
       "      <td>17.641509</td>\n",
       "      <td>2</td>\n",
       "      <td>0.012816</td>\n",
       "      <td>1.886792</td>\n",
       "    </tr>\n",
       "    <tr>\n",
       "      <th>13</th>\n",
       "      <td>13</td>\n",
       "      <td>77.0</td>\n",
       "      <td>14</td>\n",
       "      <td>13.2606</td>\n",
       "      <td>17.641509</td>\n",
       "      <td>3</td>\n",
       "      <td>1.239231</td>\n",
       "      <td>1.886792</td>\n",
       "    </tr>\n",
       "    <tr>\n",
       "      <th>14</th>\n",
       "      <td>14</td>\n",
       "      <td>78.0</td>\n",
       "      <td>6</td>\n",
       "      <td>135.525</td>\n",
       "      <td>17.641509</td>\n",
       "      <td>3</td>\n",
       "      <td>1.239231</td>\n",
       "      <td>1.886792</td>\n",
       "    </tr>\n",
       "    <tr>\n",
       "      <th>15</th>\n",
       "      <td>15</td>\n",
       "      <td>76.0</td>\n",
       "      <td>6</td>\n",
       "      <td>135.525</td>\n",
       "      <td>17.641509</td>\n",
       "      <td>3</td>\n",
       "      <td>1.239231</td>\n",
       "      <td>1.886792</td>\n",
       "    </tr>\n",
       "    <tr>\n",
       "      <th>16</th>\n",
       "      <td>16</td>\n",
       "      <td>96.0</td>\n",
       "      <td>20</td>\n",
       "      <td>5.56248</td>\n",
       "      <td>17.641509</td>\n",
       "      <td>3</td>\n",
       "      <td>1.239231</td>\n",
       "      <td>1.886792</td>\n",
       "    </tr>\n",
       "    <tr>\n",
       "      <th>17</th>\n",
       "      <td>17</td>\n",
       "      <td>77.0</td>\n",
       "      <td>6</td>\n",
       "      <td>135.525</td>\n",
       "      <td>17.641509</td>\n",
       "      <td>4</td>\n",
       "      <td>4.465646</td>\n",
       "      <td>1.886792</td>\n",
       "    </tr>\n",
       "    <tr>\n",
       "      <th>18</th>\n",
       "      <td>18</td>\n",
       "      <td>79.0</td>\n",
       "      <td>23</td>\n",
       "      <td>28.7134</td>\n",
       "      <td>17.641509</td>\n",
       "      <td>2</td>\n",
       "      <td>0.012816</td>\n",
       "      <td>1.886792</td>\n",
       "    </tr>\n",
       "    <tr>\n",
       "      <th>19</th>\n",
       "      <td>19</td>\n",
       "      <td>84.0</td>\n",
       "      <td>8</td>\n",
       "      <td>92.9587</td>\n",
       "      <td>17.641509</td>\n",
       "      <td>4</td>\n",
       "      <td>4.465646</td>\n",
       "      <td>1.886792</td>\n",
       "    </tr>\n",
       "    <tr>\n",
       "      <th>20</th>\n",
       "      <td>20</td>\n",
       "      <td>73.0</td>\n",
       "      <td>24</td>\n",
       "      <td>40.4304</td>\n",
       "      <td>17.641509</td>\n",
       "      <td>2</td>\n",
       "      <td>0.012816</td>\n",
       "      <td>1.886792</td>\n",
       "    </tr>\n",
       "    <tr>\n",
       "      <th>21</th>\n",
       "      <td>21</td>\n",
       "      <td>78.0</td>\n",
       "      <td>16</td>\n",
       "      <td>2.69455</td>\n",
       "      <td>17.641509</td>\n",
       "      <td>3</td>\n",
       "      <td>1.239231</td>\n",
       "      <td>1.886792</td>\n",
       "    </tr>\n",
       "    <tr>\n",
       "      <th>22</th>\n",
       "      <td>22</td>\n",
       "      <td>87.0</td>\n",
       "      <td>8</td>\n",
       "      <td>92.9587</td>\n",
       "      <td>17.641509</td>\n",
       "      <td>3</td>\n",
       "      <td>1.239231</td>\n",
       "      <td>1.886792</td>\n",
       "    </tr>\n",
       "    <tr>\n",
       "      <th>23</th>\n",
       "      <td>23</td>\n",
       "      <td>82.0</td>\n",
       "      <td>21</td>\n",
       "      <td>11.2795</td>\n",
       "      <td>17.641509</td>\n",
       "      <td>2</td>\n",
       "      <td>0.012816</td>\n",
       "      <td>1.886792</td>\n",
       "    </tr>\n",
       "    <tr>\n",
       "      <th>24</th>\n",
       "      <td>24</td>\n",
       "      <td>56.0</td>\n",
       "      <td>14</td>\n",
       "      <td>13.2606</td>\n",
       "      <td>17.641509</td>\n",
       "      <td>4</td>\n",
       "      <td>4.465646</td>\n",
       "      <td>1.886792</td>\n",
       "    </tr>\n",
       "    <tr>\n",
       "      <th>25</th>\n",
       "      <td>25</td>\n",
       "      <td>46.0</td>\n",
       "      <td>24</td>\n",
       "      <td>40.4304</td>\n",
       "      <td>17.641509</td>\n",
       "      <td>0</td>\n",
       "      <td>3.559986</td>\n",
       "      <td>1.886792</td>\n",
       "    </tr>\n",
       "    <tr>\n",
       "      <th>26</th>\n",
       "      <td>26</td>\n",
       "      <td>57.0</td>\n",
       "      <td>28</td>\n",
       "      <td>107.298</td>\n",
       "      <td>17.641509</td>\n",
       "      <td>0</td>\n",
       "      <td>3.559986</td>\n",
       "      <td>1.886792</td>\n",
       "    </tr>\n",
       "    <tr>\n",
       "      <th>27</th>\n",
       "      <td>27</td>\n",
       "      <td>79.0</td>\n",
       "      <td>22</td>\n",
       "      <td>18.9964</td>\n",
       "      <td>17.641509</td>\n",
       "      <td>2</td>\n",
       "      <td>0.012816</td>\n",
       "      <td>1.886792</td>\n",
       "    </tr>\n",
       "    <tr>\n",
       "      <th>28</th>\n",
       "      <td>28</td>\n",
       "      <td>91.0</td>\n",
       "      <td>12</td>\n",
       "      <td>31.8266</td>\n",
       "      <td>17.641509</td>\n",
       "      <td>4</td>\n",
       "      <td>4.465646</td>\n",
       "      <td>1.886792</td>\n",
       "    </tr>\n",
       "    <tr>\n",
       "      <th>29</th>\n",
       "      <td>29</td>\n",
       "      <td>87.0</td>\n",
       "      <td>14</td>\n",
       "      <td>13.2606</td>\n",
       "      <td>17.641509</td>\n",
       "      <td>4</td>\n",
       "      <td>4.465646</td>\n",
       "      <td>1.886792</td>\n",
       "    </tr>\n",
       "    <tr>\n",
       "      <th>...</th>\n",
       "      <td>...</td>\n",
       "      <td>...</td>\n",
       "      <td>...</td>\n",
       "      <td>...</td>\n",
       "      <td>...</td>\n",
       "      <td>...</td>\n",
       "      <td>...</td>\n",
       "      <td>...</td>\n",
       "    </tr>\n",
       "    <tr>\n",
       "      <th>86</th>\n",
       "      <td>86</td>\n",
       "      <td>86.0</td>\n",
       "      <td>22</td>\n",
       "      <td>18.9964</td>\n",
       "      <td>17.641509</td>\n",
       "      <td>0</td>\n",
       "      <td>3.559986</td>\n",
       "      <td>1.886792</td>\n",
       "    </tr>\n",
       "    <tr>\n",
       "      <th>87</th>\n",
       "      <td>87</td>\n",
       "      <td>46.0</td>\n",
       "      <td>16</td>\n",
       "      <td>2.69455</td>\n",
       "      <td>17.641509</td>\n",
       "      <td>2</td>\n",
       "      <td>0.012816</td>\n",
       "      <td>1.886792</td>\n",
       "    </tr>\n",
       "    <tr>\n",
       "      <th>88</th>\n",
       "      <td>88</td>\n",
       "      <td>90.0</td>\n",
       "      <td>27</td>\n",
       "      <td>87.5813</td>\n",
       "      <td>17.641509</td>\n",
       "      <td>3</td>\n",
       "      <td>1.239231</td>\n",
       "      <td>1.886792</td>\n",
       "    </tr>\n",
       "    <tr>\n",
       "      <th>89</th>\n",
       "      <td>89</td>\n",
       "      <td>78.0</td>\n",
       "      <td>28</td>\n",
       "      <td>107.298</td>\n",
       "      <td>17.641509</td>\n",
       "      <td>0</td>\n",
       "      <td>3.559986</td>\n",
       "      <td>1.886792</td>\n",
       "    </tr>\n",
       "    <tr>\n",
       "      <th>90</th>\n",
       "      <td>90</td>\n",
       "      <td>59.0</td>\n",
       "      <td>18</td>\n",
       "      <td>0.128515</td>\n",
       "      <td>17.641509</td>\n",
       "      <td>1</td>\n",
       "      <td>0.786401</td>\n",
       "      <td>1.886792</td>\n",
       "    </tr>\n",
       "    <tr>\n",
       "      <th>91</th>\n",
       "      <td>91</td>\n",
       "      <td>87.0</td>\n",
       "      <td>14</td>\n",
       "      <td>13.2606</td>\n",
       "      <td>17.641509</td>\n",
       "      <td>3</td>\n",
       "      <td>1.239231</td>\n",
       "      <td>1.886792</td>\n",
       "    </tr>\n",
       "    <tr>\n",
       "      <th>92</th>\n",
       "      <td>92</td>\n",
       "      <td>64.0</td>\n",
       "      <td>12</td>\n",
       "      <td>31.8266</td>\n",
       "      <td>17.641509</td>\n",
       "      <td>1</td>\n",
       "      <td>0.786401</td>\n",
       "      <td>1.886792</td>\n",
       "    </tr>\n",
       "    <tr>\n",
       "      <th>93</th>\n",
       "      <td>93</td>\n",
       "      <td>61.0</td>\n",
       "      <td>15</td>\n",
       "      <td>6.97757</td>\n",
       "      <td>17.641509</td>\n",
       "      <td>2</td>\n",
       "      <td>0.012816</td>\n",
       "      <td>1.886792</td>\n",
       "    </tr>\n",
       "    <tr>\n",
       "      <th>94</th>\n",
       "      <td>94</td>\n",
       "      <td>78.0</td>\n",
       "      <td>22</td>\n",
       "      <td>18.9964</td>\n",
       "      <td>17.641509</td>\n",
       "      <td>1</td>\n",
       "      <td>0.786401</td>\n",
       "      <td>1.886792</td>\n",
       "    </tr>\n",
       "    <tr>\n",
       "      <th>95</th>\n",
       "      <td>95</td>\n",
       "      <td>84.0</td>\n",
       "      <td>21</td>\n",
       "      <td>11.2795</td>\n",
       "      <td>17.641509</td>\n",
       "      <td>1</td>\n",
       "      <td>0.786401</td>\n",
       "      <td>1.886792</td>\n",
       "    </tr>\n",
       "    <tr>\n",
       "      <th>96</th>\n",
       "      <td>96</td>\n",
       "      <td>85.0</td>\n",
       "      <td>12</td>\n",
       "      <td>31.8266</td>\n",
       "      <td>17.641509</td>\n",
       "      <td>3</td>\n",
       "      <td>1.239231</td>\n",
       "      <td>1.886792</td>\n",
       "    </tr>\n",
       "    <tr>\n",
       "      <th>97</th>\n",
       "      <td>97</td>\n",
       "      <td>75.0</td>\n",
       "      <td>17</td>\n",
       "      <td>0.411534</td>\n",
       "      <td>17.641509</td>\n",
       "      <td>0</td>\n",
       "      <td>3.559986</td>\n",
       "      <td>1.886792</td>\n",
       "    </tr>\n",
       "    <tr>\n",
       "      <th>98</th>\n",
       "      <td>98</td>\n",
       "      <td>78.0</td>\n",
       "      <td>19</td>\n",
       "      <td>1.8455</td>\n",
       "      <td>17.641509</td>\n",
       "      <td>1</td>\n",
       "      <td>0.786401</td>\n",
       "      <td>1.886792</td>\n",
       "    </tr>\n",
       "    <tr>\n",
       "      <th>99</th>\n",
       "      <td>99</td>\n",
       "      <td>80.0</td>\n",
       "      <td>16</td>\n",
       "      <td>2.69455</td>\n",
       "      <td>17.641509</td>\n",
       "      <td>2</td>\n",
       "      <td>0.012816</td>\n",
       "      <td>1.886792</td>\n",
       "    </tr>\n",
       "    <tr>\n",
       "      <th>100</th>\n",
       "      <td>100</td>\n",
       "      <td>80.0</td>\n",
       "      <td>23</td>\n",
       "      <td>28.7134</td>\n",
       "      <td>17.641509</td>\n",
       "      <td>3</td>\n",
       "      <td>1.239231</td>\n",
       "      <td>1.886792</td>\n",
       "    </tr>\n",
       "    <tr>\n",
       "      <th>101</th>\n",
       "      <td>101</td>\n",
       "      <td>85.0</td>\n",
       "      <td>12</td>\n",
       "      <td>31.8266</td>\n",
       "      <td>17.641509</td>\n",
       "      <td>3</td>\n",
       "      <td>1.239231</td>\n",
       "      <td>1.886792</td>\n",
       "    </tr>\n",
       "    <tr>\n",
       "      <th>102</th>\n",
       "      <td>102</td>\n",
       "      <td>68.0</td>\n",
       "      <td>22</td>\n",
       "      <td>18.9964</td>\n",
       "      <td>17.641509</td>\n",
       "      <td>2</td>\n",
       "      <td>0.012816</td>\n",
       "      <td>1.886792</td>\n",
       "    </tr>\n",
       "    <tr>\n",
       "      <th>103</th>\n",
       "      <td>103</td>\n",
       "      <td>63.0</td>\n",
       "      <td>12</td>\n",
       "      <td>31.8266</td>\n",
       "      <td>17.641509</td>\n",
       "      <td>3</td>\n",
       "      <td>1.239231</td>\n",
       "      <td>1.886792</td>\n",
       "    </tr>\n",
       "    <tr>\n",
       "      <th>104</th>\n",
       "      <td>104</td>\n",
       "      <td>36.0</td>\n",
       "      <td>23</td>\n",
       "      <td>28.7134</td>\n",
       "      <td>17.641509</td>\n",
       "      <td>0</td>\n",
       "      <td>3.559986</td>\n",
       "      <td>1.886792</td>\n",
       "    </tr>\n",
       "    <tr>\n",
       "      <th>105</th>\n",
       "      <td>105</td>\n",
       "      <td>77.0</td>\n",
       "      <td>12</td>\n",
       "      <td>31.8266</td>\n",
       "      <td>17.641509</td>\n",
       "      <td>3</td>\n",
       "      <td>1.239231</td>\n",
       "      <td>1.886792</td>\n",
       "    </tr>\n",
       "    <tr>\n",
       "      <th>106</th>\n",
       "      <td>106</td>\n",
       "      <td>NaN</td>\n",
       "      <td>NaN</td>\n",
       "      <td>NaN</td>\n",
       "      <td>NaN</td>\n",
       "      <td>NaN</td>\n",
       "      <td>NaN</td>\n",
       "      <td>NaN</td>\n",
       "    </tr>\n",
       "    <tr>\n",
       "      <th>107</th>\n",
       "      <td>107</td>\n",
       "      <td>NaN</td>\n",
       "      <td>17.6415</td>\n",
       "      <td>3916.38</td>\n",
       "      <td>NaN</td>\n",
       "      <td>1.88679</td>\n",
       "      <td>150.641509</td>\n",
       "      <td>NaN</td>\n",
       "    </tr>\n",
       "    <tr>\n",
       "      <th>108</th>\n",
       "      <td>108</td>\n",
       "      <td>NaN</td>\n",
       "      <td>NaN</td>\n",
       "      <td>NaN</td>\n",
       "      <td>NaN</td>\n",
       "      <td>NaN</td>\n",
       "      <td>NaN</td>\n",
       "      <td>NaN</td>\n",
       "    </tr>\n",
       "    <tr>\n",
       "      <th>109</th>\n",
       "      <td>109</td>\n",
       "      <td>NaN</td>\n",
       "      <td>NaN</td>\n",
       "      <td>NaN</td>\n",
       "      <td>NaN</td>\n",
       "      <td>NaN</td>\n",
       "      <td>NaN</td>\n",
       "      <td>NaN</td>\n",
       "    </tr>\n",
       "    <tr>\n",
       "      <th>110</th>\n",
       "      <td>110</td>\n",
       "      <td>NaN</td>\n",
       "      <td>NaN</td>\n",
       "      <td>NIHSS</td>\n",
       "      <td>NaN</td>\n",
       "      <td>MRS</td>\n",
       "      <td>NaN</td>\n",
       "      <td>NaN</td>\n",
       "    </tr>\n",
       "    <tr>\n",
       "      <th>111</th>\n",
       "      <td>111</td>\n",
       "      <td>NaN</td>\n",
       "      <td>Mean</td>\n",
       "      <td>17.6415</td>\n",
       "      <td>NaN</td>\n",
       "      <td>1.88679</td>\n",
       "      <td>NaN</td>\n",
       "      <td>NaN</td>\n",
       "    </tr>\n",
       "    <tr>\n",
       "      <th>112</th>\n",
       "      <td>112</td>\n",
       "      <td>NaN</td>\n",
       "      <td>Sum of distance from mean</td>\n",
       "      <td>3916.38</td>\n",
       "      <td>NaN</td>\n",
       "      <td>150.642</td>\n",
       "      <td>NaN</td>\n",
       "      <td>NaN</td>\n",
       "    </tr>\n",
       "    <tr>\n",
       "      <th>113</th>\n",
       "      <td>113</td>\n",
       "      <td>NaN</td>\n",
       "      <td>N-1</td>\n",
       "      <td>105</td>\n",
       "      <td>NaN</td>\n",
       "      <td>105</td>\n",
       "      <td>NaN</td>\n",
       "      <td>NaN</td>\n",
       "    </tr>\n",
       "    <tr>\n",
       "      <th>114</th>\n",
       "      <td>114</td>\n",
       "      <td>NaN</td>\n",
       "      <td>/n</td>\n",
       "      <td>37.2988</td>\n",
       "      <td>NaN</td>\n",
       "      <td>1.43468</td>\n",
       "      <td>NaN</td>\n",
       "      <td>NaN</td>\n",
       "    </tr>\n",
       "    <tr>\n",
       "      <th>115</th>\n",
       "      <td>115</td>\n",
       "      <td>NaN</td>\n",
       "      <td>SD</td>\n",
       "      <td>6.10728</td>\n",
       "      <td>NaN</td>\n",
       "      <td>1.19778</td>\n",
       "      <td>NaN</td>\n",
       "      <td>NaN</td>\n",
       "    </tr>\n",
       "  </tbody>\n",
       "</table>\n",
       "<p>116 rows × 8 columns</p>\n",
       "</div>"
      ],
      "text/plain": [
       "     index   Age                      NIHSS Unnamed: 2  Unnamed: 3      MRS  \\\n",
       "0        0  66.0                         22    18.9964   17.641509        1   \n",
       "1        1  83.0                         15    6.97757   17.641509        4   \n",
       "2        2  83.0                         21    11.2795   17.641509        2   \n",
       "3        3  81.0                         24    40.4304   17.641509        1   \n",
       "4        4  81.0                         21    11.2795   17.641509        1   \n",
       "5        5  67.0                         20    5.56248   17.641509        2   \n",
       "6        6  64.0                         27    87.5813   17.641509        1   \n",
       "7        7  87.0                         11    44.1096   17.641509        3   \n",
       "8        8  77.0                         21    11.2795   17.641509        3   \n",
       "9        9  70.0                          9    74.6757   17.641509        2   \n",
       "10      10  85.0                         22    18.9964   17.641509        2   \n",
       "11      11  61.0                         23    28.7134   17.641509        0   \n",
       "12      12  79.0                         22    18.9964   17.641509        2   \n",
       "13      13  77.0                         14    13.2606   17.641509        3   \n",
       "14      14  78.0                          6    135.525   17.641509        3   \n",
       "15      15  76.0                          6    135.525   17.641509        3   \n",
       "16      16  96.0                         20    5.56248   17.641509        3   \n",
       "17      17  77.0                          6    135.525   17.641509        4   \n",
       "18      18  79.0                         23    28.7134   17.641509        2   \n",
       "19      19  84.0                          8    92.9587   17.641509        4   \n",
       "20      20  73.0                         24    40.4304   17.641509        2   \n",
       "21      21  78.0                         16    2.69455   17.641509        3   \n",
       "22      22  87.0                          8    92.9587   17.641509        3   \n",
       "23      23  82.0                         21    11.2795   17.641509        2   \n",
       "24      24  56.0                         14    13.2606   17.641509        4   \n",
       "25      25  46.0                         24    40.4304   17.641509        0   \n",
       "26      26  57.0                         28    107.298   17.641509        0   \n",
       "27      27  79.0                         22    18.9964   17.641509        2   \n",
       "28      28  91.0                         12    31.8266   17.641509        4   \n",
       "29      29  87.0                         14    13.2606   17.641509        4   \n",
       "..     ...   ...                        ...        ...         ...      ...   \n",
       "86      86  86.0                         22    18.9964   17.641509        0   \n",
       "87      87  46.0                         16    2.69455   17.641509        2   \n",
       "88      88  90.0                         27    87.5813   17.641509        3   \n",
       "89      89  78.0                         28    107.298   17.641509        0   \n",
       "90      90  59.0                         18   0.128515   17.641509        1   \n",
       "91      91  87.0                         14    13.2606   17.641509        3   \n",
       "92      92  64.0                         12    31.8266   17.641509        1   \n",
       "93      93  61.0                         15    6.97757   17.641509        2   \n",
       "94      94  78.0                         22    18.9964   17.641509        1   \n",
       "95      95  84.0                         21    11.2795   17.641509        1   \n",
       "96      96  85.0                         12    31.8266   17.641509        3   \n",
       "97      97  75.0                         17   0.411534   17.641509        0   \n",
       "98      98  78.0                         19     1.8455   17.641509        1   \n",
       "99      99  80.0                         16    2.69455   17.641509        2   \n",
       "100    100  80.0                         23    28.7134   17.641509        3   \n",
       "101    101  85.0                         12    31.8266   17.641509        3   \n",
       "102    102  68.0                         22    18.9964   17.641509        2   \n",
       "103    103  63.0                         12    31.8266   17.641509        3   \n",
       "104    104  36.0                         23    28.7134   17.641509        0   \n",
       "105    105  77.0                         12    31.8266   17.641509        3   \n",
       "106    106   NaN                        NaN        NaN         NaN      NaN   \n",
       "107    107   NaN                    17.6415    3916.38         NaN  1.88679   \n",
       "108    108   NaN                        NaN        NaN         NaN      NaN   \n",
       "109    109   NaN                        NaN        NaN         NaN      NaN   \n",
       "110    110   NaN                        NaN     NIHSS          NaN      MRS   \n",
       "111    111   NaN                       Mean    17.6415         NaN  1.88679   \n",
       "112    112   NaN  Sum of distance from mean    3916.38         NaN  150.642   \n",
       "113    113   NaN                        N-1        105         NaN      105   \n",
       "114    114   NaN                         /n    37.2988         NaN  1.43468   \n",
       "115    115   NaN                         SD    6.10728         NaN  1.19778   \n",
       "\n",
       "     Unnamed: 5  Unnamed: 6  \n",
       "0      0.786401    1.886792  \n",
       "1      4.465646    1.886792  \n",
       "2      0.012816    1.886792  \n",
       "3      0.786401    1.886792  \n",
       "4      0.786401    1.886792  \n",
       "5      0.012816    1.886792  \n",
       "6      0.786401    1.886792  \n",
       "7      1.239231    1.886792  \n",
       "8      1.239231    1.886792  \n",
       "9      0.012816    1.886792  \n",
       "10     0.012816    1.886792  \n",
       "11     3.559986    1.886792  \n",
       "12     0.012816    1.886792  \n",
       "13     1.239231    1.886792  \n",
       "14     1.239231    1.886792  \n",
       "15     1.239231    1.886792  \n",
       "16     1.239231    1.886792  \n",
       "17     4.465646    1.886792  \n",
       "18     0.012816    1.886792  \n",
       "19     4.465646    1.886792  \n",
       "20     0.012816    1.886792  \n",
       "21     1.239231    1.886792  \n",
       "22     1.239231    1.886792  \n",
       "23     0.012816    1.886792  \n",
       "24     4.465646    1.886792  \n",
       "25     3.559986    1.886792  \n",
       "26     3.559986    1.886792  \n",
       "27     0.012816    1.886792  \n",
       "28     4.465646    1.886792  \n",
       "29     4.465646    1.886792  \n",
       "..          ...         ...  \n",
       "86     3.559986    1.886792  \n",
       "87     0.012816    1.886792  \n",
       "88     1.239231    1.886792  \n",
       "89     3.559986    1.886792  \n",
       "90     0.786401    1.886792  \n",
       "91     1.239231    1.886792  \n",
       "92     0.786401    1.886792  \n",
       "93     0.012816    1.886792  \n",
       "94     0.786401    1.886792  \n",
       "95     0.786401    1.886792  \n",
       "96     1.239231    1.886792  \n",
       "97     3.559986    1.886792  \n",
       "98     0.786401    1.886792  \n",
       "99     0.012816    1.886792  \n",
       "100    1.239231    1.886792  \n",
       "101    1.239231    1.886792  \n",
       "102    0.012816    1.886792  \n",
       "103    1.239231    1.886792  \n",
       "104    3.559986    1.886792  \n",
       "105    1.239231    1.886792  \n",
       "106         NaN         NaN  \n",
       "107  150.641509         NaN  \n",
       "108         NaN         NaN  \n",
       "109         NaN         NaN  \n",
       "110         NaN         NaN  \n",
       "111         NaN         NaN  \n",
       "112         NaN         NaN  \n",
       "113         NaN         NaN  \n",
       "114         NaN         NaN  \n",
       "115         NaN         NaN  \n",
       "\n",
       "[116 rows x 8 columns]"
      ]
     },
     "execution_count": 7,
     "metadata": {},
     "output_type": "execute_result"
    }
   ],
   "source": [
    "df"
   ]
  },
  {
   "cell_type": "code",
   "execution_count": 6,
   "metadata": {
    "collapsed": false
   },
   "outputs": [
    {
     "ename": "ValueError",
     "evalue": "labels ['Key'] not contained in axis",
     "output_type": "error",
     "traceback": [
      "\u001b[0;31m---------------------------------------------------------------------------\u001b[0m",
      "\u001b[0;31mValueError\u001b[0m                                Traceback (most recent call last)",
      "\u001b[0;32m<ipython-input-6-0597c5368649>\u001b[0m in \u001b[0;36m<module>\u001b[0;34m()\u001b[0m\n\u001b[1;32m      4\u001b[0m \u001b[0;34m\u001b[0m\u001b[0m\n\u001b[1;32m      5\u001b[0m \u001b[0mdf\u001b[0m\u001b[0;34m.\u001b[0m\u001b[0mreset_index\u001b[0m\u001b[0;34m(\u001b[0m\u001b[0minplace\u001b[0m\u001b[0;34m=\u001b[0m\u001b[0mTrue\u001b[0m\u001b[0;34m)\u001b[0m\u001b[0;34m\u001b[0m\u001b[0m\n\u001b[0;32m----> 6\u001b[0;31m \u001b[0mdf\u001b[0m\u001b[0;34m.\u001b[0m\u001b[0mdrop\u001b[0m\u001b[0;34m(\u001b[0m\u001b[0;34m[\u001b[0m\u001b[0;34m'index'\u001b[0m\u001b[0;34m,\u001b[0m \u001b[0;34m'Key'\u001b[0m\u001b[0;34m]\u001b[0m\u001b[0;34m,\u001b[0m \u001b[0maxis\u001b[0m\u001b[0;34m=\u001b[0m\u001b[0;36m1\u001b[0m\u001b[0;34m)\u001b[0m\u001b[0;34m\u001b[0m\u001b[0m\n\u001b[0m\u001b[1;32m      7\u001b[0m \u001b[0;34m\u001b[0m\u001b[0m\n\u001b[1;32m      8\u001b[0m \u001b[0mX\u001b[0m \u001b[0;34m=\u001b[0m \u001b[0mdf\u001b[0m\u001b[0;34m[\u001b[0m\u001b[0;34m[\u001b[0m\u001b[0;34m'Age'\u001b[0m\u001b[0;34m,\u001b[0m \u001b[0;34m'NIHSS'\u001b[0m\u001b[0;34m,\u001b[0m \u001b[0;34m'MRS'\u001b[0m\u001b[0;34m]\u001b[0m\u001b[0;34m]\u001b[0m\u001b[0;34m.\u001b[0m\u001b[0mas_matrix\u001b[0m\u001b[0;34m(\u001b[0m\u001b[0;34m)\u001b[0m\u001b[0;34m\u001b[0m\u001b[0m\n",
      "\u001b[0;32m/users/archy/anaconda/lib/python2.7/site-packages/pandas/core/generic.pyc\u001b[0m in \u001b[0;36mdrop\u001b[0;34m(self, labels, axis, level, inplace, errors)\u001b[0m\n\u001b[1;32m   1871\u001b[0m                 \u001b[0mnew_axis\u001b[0m \u001b[0;34m=\u001b[0m \u001b[0maxis\u001b[0m\u001b[0;34m.\u001b[0m\u001b[0mdrop\u001b[0m\u001b[0;34m(\u001b[0m\u001b[0mlabels\u001b[0m\u001b[0;34m,\u001b[0m \u001b[0mlevel\u001b[0m\u001b[0;34m=\u001b[0m\u001b[0mlevel\u001b[0m\u001b[0;34m,\u001b[0m \u001b[0merrors\u001b[0m\u001b[0;34m=\u001b[0m\u001b[0merrors\u001b[0m\u001b[0;34m)\u001b[0m\u001b[0;34m\u001b[0m\u001b[0m\n\u001b[1;32m   1872\u001b[0m             \u001b[0;32melse\u001b[0m\u001b[0;34m:\u001b[0m\u001b[0;34m\u001b[0m\u001b[0m\n\u001b[0;32m-> 1873\u001b[0;31m                 \u001b[0mnew_axis\u001b[0m \u001b[0;34m=\u001b[0m \u001b[0maxis\u001b[0m\u001b[0;34m.\u001b[0m\u001b[0mdrop\u001b[0m\u001b[0;34m(\u001b[0m\u001b[0mlabels\u001b[0m\u001b[0;34m,\u001b[0m \u001b[0merrors\u001b[0m\u001b[0;34m=\u001b[0m\u001b[0merrors\u001b[0m\u001b[0;34m)\u001b[0m\u001b[0;34m\u001b[0m\u001b[0m\n\u001b[0m\u001b[1;32m   1874\u001b[0m             \u001b[0mdropped\u001b[0m \u001b[0;34m=\u001b[0m \u001b[0mself\u001b[0m\u001b[0;34m.\u001b[0m\u001b[0mreindex\u001b[0m\u001b[0;34m(\u001b[0m\u001b[0;34m**\u001b[0m\u001b[0;34m{\u001b[0m\u001b[0maxis_name\u001b[0m\u001b[0;34m:\u001b[0m \u001b[0mnew_axis\u001b[0m\u001b[0;34m}\u001b[0m\u001b[0;34m)\u001b[0m\u001b[0;34m\u001b[0m\u001b[0m\n\u001b[1;32m   1875\u001b[0m             \u001b[0;32mtry\u001b[0m\u001b[0;34m:\u001b[0m\u001b[0;34m\u001b[0m\u001b[0m\n",
      "\u001b[0;32m/users/archy/anaconda/lib/python2.7/site-packages/pandas/indexes/base.pyc\u001b[0m in \u001b[0;36mdrop\u001b[0;34m(self, labels, errors)\u001b[0m\n\u001b[1;32m   2964\u001b[0m             \u001b[0;32mif\u001b[0m \u001b[0merrors\u001b[0m \u001b[0;34m!=\u001b[0m \u001b[0;34m'ignore'\u001b[0m\u001b[0;34m:\u001b[0m\u001b[0;34m\u001b[0m\u001b[0m\n\u001b[1;32m   2965\u001b[0m                 raise ValueError('labels %s not contained in axis' %\n\u001b[0;32m-> 2966\u001b[0;31m                                  labels[mask])\n\u001b[0m\u001b[1;32m   2967\u001b[0m             \u001b[0mindexer\u001b[0m \u001b[0;34m=\u001b[0m \u001b[0mindexer\u001b[0m\u001b[0;34m[\u001b[0m\u001b[0;34m~\u001b[0m\u001b[0mmask\u001b[0m\u001b[0;34m]\u001b[0m\u001b[0;34m\u001b[0m\u001b[0m\n\u001b[1;32m   2968\u001b[0m         \u001b[0;32mreturn\u001b[0m \u001b[0mself\u001b[0m\u001b[0;34m.\u001b[0m\u001b[0mdelete\u001b[0m\u001b[0;34m(\u001b[0m\u001b[0mindexer\u001b[0m\u001b[0;34m)\u001b[0m\u001b[0;34m\u001b[0m\u001b[0m\n",
      "\u001b[0;31mValueError\u001b[0m: labels ['Key'] not contained in axis"
     ]
    }
   ],
   "source": [
    "df = pd.read_excel('Discharge destinations 2.xlsx', \n",
    "                   sheet_name='Regression analysis',\n",
    "                  header=1)\n",
    "\n",
    "df.reset_index(inplace=True)\n",
    "df.drop(['index', 'Key'], axis=1)\n",
    "\n",
    "X = df[['Age', 'NIHSS', 'MRS']].as_matrix() \n",
    "X = stats.zscore(X)\n",
    "\n",
    "y = df['Outcome'].as_matrix()\n",
    "\n",
    "X_train, X_test, y_train, y_test = train_test_split(X, y)\n"
   ]
  },
  {
   "cell_type": "markdown",
   "metadata": {},
   "source": [
    "# Logistic regression"
   ]
  },
  {
   "cell_type": "code",
   "execution_count": 49,
   "metadata": {
    "collapsed": true
   },
   "outputs": [],
   "source": [
    "acc_dict = {}\n",
    "for c in np.linspace(0.01,10,1000):\n",
    "    lr = LogisticRegression(C=c)\n",
    "    acc_dict[c] = np.mean(cross_validate(lr, X_train, y_train)['test_score'])"
   ]
  },
  {
   "cell_type": "code",
   "execution_count": 50,
   "metadata": {
    "collapsed": false
   },
   "outputs": [
    {
     "data": {
      "text/plain": [
       "[<matplotlib.lines.Line2D at 0x1121e8d68>]"
      ]
     },
     "execution_count": 50,
     "metadata": {},
     "output_type": "execute_result"
    },
    {
     "data": {
      "image/png": "[encoded data removed]",
      "text/plain": [
       "<Figure size 432x288 with 1 Axes>"
      ]
     },
     "metadata": {},
     "output_type": "display_data"
    }
   ],
   "source": [
    "plt.plot(acc_dict.keys(), acc_dict.values())"
   ]
  },
  {
   "cell_type": "markdown",
   "metadata": {},
   "source": [
    "## SVM"
   ]
  },
  {
   "cell_type": "markdown",
   "metadata": {},
   "source": [
    "### Linear"
   ]
  },
  {
   "cell_type": "code",
   "execution_count": 57,
   "metadata": {
    "collapsed": false
   },
   "outputs": [
    {
     "data": {
      "text/plain": [
       "[<matplotlib.lines.Line2D at 0x11240f358>]"
      ]
     },
     "execution_count": 57,
     "metadata": {},
     "output_type": "execute_result"
    },
    {
     "data": {
      "image/png": "[encoded data removed]",
      "text/plain": [
       "<Figure size 432x288 with 1 Axes>"
      ]
     },
     "metadata": {},
     "output_type": "display_data"
    }
   ],
   "source": [
    "acc_dict = {}\n",
    "for c in np.linspace(0.01,10,1000):\n",
    "    s_v_m = svm.SVC(C=c, kernel='linear')\n",
    "    acc_dict[c] = np.mean(cross_validate(s_v_m, X_train, y_train)['test_score'])\n",
    "\n",
    "plt.plot(acc_dict.keys(), acc_dict.values())"
   ]
  },
  {
   "cell_type": "markdown",
   "metadata": {},
   "source": [
    "## RBF"
   ]
  },
  {
   "cell_type": "code",
   "execution_count": 82,
   "metadata": {
    "collapsed": true
   },
   "outputs": [],
   "source": [
    "acc_dict = {}\n",
    "for g in np.linspace(0.25,0.45,100):\n",
    "    acc_dict[g] = {}\n",
    "    for c in np.linspace(5,7,50):\n",
    "        s_v_m = svm.SVC(C=c, kernel='rbf', gamma=g)\n",
    "        acc_dict[g][c] = np.mean(cross_validate(s_v_m, X_train, y_train)['test_score'])\n"
   ]
  },
  {
   "cell_type": "code",
   "execution_count": 90,
   "metadata": {
    "collapsed": true
   },
   "outputs": [],
   "source": [
    "import operator\n",
    "max_acc = []\n",
    "for g in np.linspace(0.25,0.45,100):\n",
    "    max_acc.append((max(acc_dict[g].items(), key=operator.itemgetter(1))[1]))\n"
   ]
  },
  {
   "cell_type": "code",
   "execution_count": 107,
   "metadata": {
    "collapsed": false
   },
   "outputs": [
    {
     "data": {
      "text/plain": [
       "0.6969191957162787"
      ]
     },
     "execution_count": 107,
     "metadata": {},
     "output_type": "execute_result"
    }
   ],
   "source": [
    "max(max_acc)\n",
    "g = 0.4196969696969697\n",
    "c = 5.204081632653061"
   ]
  },
  {
   "cell_type": "code",
   "execution_count": 121,
   "metadata": {
    "collapsed": false
   },
   "outputs": [
    {
     "name": "stdout",
     "output_type": "stream",
     "text": [
      "0.6969191957162787\n"
     ]
    },
    {
     "data": {
      "text/plain": [
       "SVC(C=5.2, cache_size=200, class_weight=None, coef0=0.0,\n",
       "  decision_function_shape='ovr', degree=3, gamma=0.42, kernel='rbf',\n",
       "  max_iter=-1, probability=False, random_state=None, shrinking=True,\n",
       "  tol=0.001, verbose=False)"
      ]
     },
     "execution_count": 121,
     "metadata": {},
     "output_type": "execute_result"
    }
   ],
   "source": [
    "s_v_m = svm.SVC(C=5.2, kernel='rbf', gamma=.42)\n",
    "print(np.mean(cross_validate(s_v_m, X_train, y_train)['test_score']))\n",
    "s_v_m.fit(X_train, y_train)"
   ]
  },
  {
   "cell_type": "code",
   "execution_count": 171,
   "metadata": {
    "collapsed": true
   },
   "outputs": [],
   "source": [
    "best_score = s_v_m.score(X_test, y_test)"
   ]
  },
  {
   "cell_type": "code",
   "execution_count": 153,
   "metadata": {
    "collapsed": true
   },
   "outputs": [],
   "source": [
    "def plot_confusion_matrix(cm, classes,\n",
    "                          normalize=False,\n",
    "                          title='Confusion matrix',\n",
    "                          cmap=plt.cm.Blues):\n",
    "    \"\"\"\n",
    "    This function prints and plots the confusion matrix.\n",
    "    Normalization can be applied by setting `normalize=True`.\n",
    "    \"\"\"\n",
    "    if normalize:\n",
    "        cm = cm.astype('float') / cm.sum(axis=1)[:, np.newaxis]\n",
    "        print(\"Normalized confusion matrix\")\n",
    "    else:\n",
    "        print('Confusion matrix, without normalization')\n",
    "\n",
    "    print(cm)\n",
    "    \n",
    "    plt.imshow(cm, interpolation='nearest', cmap=cmap)\n",
    "    plt.title(title)\n",
    "    plt.colorbar()\n",
    "    tick_marks = np.arange(len(classes))\n",
    "    plt.xticks(tick_marks, classes, rotation=45)\n",
    "    plt.yticks(tick_marks, classes)\n",
    "\n",
    "    fmt = '.2f' if normalize else 'd'\n",
    "    thresh = cm.max() / 2.\n",
    "    for i, j in itertools.product(range(cm.shape[0]), range(cm.shape[1])):\n",
    "        plt.text(j, i, format(cm[i, j], fmt),\n",
    "                 horizontalalignment=\"center\",\n",
    "                 color=\"white\" if cm[i, j] > thresh else \"black\")\n",
    "\n",
    "    plt.tight_layout()\n",
    "    plt.ylabel('True label', fontsize=15)\n",
    "    plt.xlabel('Predicted label', fontsize=15)"
   ]
  },
  {
   "cell_type": "code",
   "execution_count": 155,
   "metadata": {
    "collapsed": false
   },
   "outputs": [
    {
     "name": "stdout",
     "output_type": "stream",
     "text": [
      "Confusion matrix, without normalization\n",
      "[[ 10  16   0   0]\n",
      " [  6 118  26   3]\n",
      " [  0  23  37   8]\n",
      " [  0   1   5  30]]\n"
     ]
    },
    {
     "data": {
      "image/png": "[encoded data removed]",
      "text/plain": [
       "<Figure size 720x720 with 2 Axes>"
      ]
     },
     "metadata": {},
     "output_type": "display_data"
    }
   ],
   "source": [
    "yhat = s_v_m.predict(X_test)\n",
    "plt.figure(figsize=(10,10))\n",
    "cmtx = confusion_matrix(y_test, yhat)\n",
    "labels =  ['Death', 'In Patient', 'CH', 'Home']\n",
    "plot_confusion_matrix(cmtx, labels)"
   ]
  },
  {
   "cell_type": "code",
   "execution_count": 159,
   "metadata": {
    "collapsed": false
   },
   "outputs": [
    {
     "data": {
      "text/plain": [
       "(array([0.625     , 0.74683544, 0.54411765, 0.73170732]),\n",
       " array([0.38461538, 0.77124183, 0.54411765, 0.83333333]),\n",
       " array([0.47619048, 0.75884244, 0.54411765, 0.77922078]),\n",
       " array([ 26, 153,  68,  36]))"
      ]
     },
     "execution_count": 159,
     "metadata": {},
     "output_type": "execute_result"
    }
   ],
   "source": [
    "precision_recall_fscore_support(y_test, yhat)"
   ]
  },
  {
   "cell_type": "markdown",
   "metadata": {},
   "source": [
    "## Polynomial"
   ]
  },
  {
   "cell_type": "code",
   "execution_count": 59,
   "metadata": {
    "collapsed": false
   },
   "outputs": [
    {
     "data": {
      "text/plain": [
       "[<matplotlib.lines.Line2D at 0x112550160>]"
      ]
     },
     "execution_count": 59,
     "metadata": {},
     "output_type": "execute_result"
    },
    {
     "data": {
      "image/png": "[encoded data removed]",
      "text/plain": [
       "<Figure size 432x288 with 1 Axes>"
      ]
     },
     "metadata": {},
     "output_type": "display_data"
    }
   ],
   "source": [
    "acc_dict = {}\n",
    "for c in np.linspace(0.01,10,1000):\n",
    "    s_v_m = svm.SVC(C=c, kernel='poly')\n",
    "    acc_dict[c] = np.mean(cross_validate(s_v_m, X_train, y_train)['test_score'])\n",
    "\n",
    "plt.plot(acc_dict.keys(), acc_dict.values())"
   ]
  },
  {
   "cell_type": "markdown",
   "metadata": {},
   "source": [
    "## LinearSVC\n",
    "\n"
   ]
  },
  {
   "cell_type": "code",
   "execution_count": 61,
   "metadata": {
    "collapsed": false
   },
   "outputs": [
    {
     "data": {
      "text/plain": [
       "[<matplotlib.lines.Line2D at 0x112605470>]"
      ]
     },
     "execution_count": 61,
     "metadata": {},
     "output_type": "execute_result"
    },
    {
     "data": {
      "image/png": "[encoded data removed]",
      "text/plain": [
       "<Figure size 432x288 with 1 Axes>"
      ]
     },
     "metadata": {},
     "output_type": "display_data"
    }
   ],
   "source": [
    "acc_dict = {}\n",
    "for c in np.linspace(0.01,10,1000):\n",
    "    s_v_m = svm.LinearSVC(C=c)\n",
    "    acc_dict[c] = np.mean(cross_validate(s_v_m, X_train, y_train)['test_score'])\n",
    "\n",
    "plt.plot(acc_dict.keys(), acc_dict.values())"
   ]
  },
  {
   "cell_type": "markdown",
   "metadata": {},
   "source": [
    "# Random forest"
   ]
  },
  {
   "cell_type": "code",
   "execution_count": 66,
   "metadata": {
    "collapsed": false
   },
   "outputs": [
    {
     "data": {
      "text/plain": [
       "[<matplotlib.lines.Line2D at 0x1120554a8>,\n",
       " <matplotlib.lines.Line2D at 0x112055208>,\n",
       " <matplotlib.lines.Line2D at 0x112055b38>]"
      ]
     },
     "execution_count": 66,
     "metadata": {},
     "output_type": "execute_result"
    },
    {
     "data": {
      "image/png": "[encoded data removed]",
      "text/plain": [
       "<Figure size 432x288 with 1 Axes>"
      ]
     },
     "metadata": {},
     "output_type": "display_data"
    }
   ],
   "source": [
    "acc_dict = {}\n",
    "for n_features in range(1,4):\n",
    "    for n_estimators in np.linspace(5,100,4):\n",
    "        for n_min_leaf in np.linspace(5,100,4):\n",
    "            rf = AdaBoostClassifier(RandomForestClassifier(), n_estimators=100)\n",
    "            acc_dict[(n_features, n_estimators, n_min_leaf)] = np.mean(cross_validate(rf, X_train, y_train)['test_score'])\n",
    "\n"
   ]
  },
  {
   "cell_type": "code",
   "execution_count": 67,
   "metadata": {
    "collapsed": false
   },
   "outputs": [
    {
     "data": {
      "image/png": "[encoded data removed]",
      "text/plain": [
       "<Figure size 432x288 with 1 Axes>"
      ]
     },
     "metadata": {},
     "output_type": "display_data"
    }
   ],
   "source": [
    "plt.plot(acc_dict.keys(), acc_dict.values())\n",
    "plt.show()"
   ]
  },
  {
   "cell_type": "code",
   "execution_count": 68,
   "metadata": {
    "collapsed": false
   },
   "outputs": [
    {
     "data": {
      "text/plain": [
       "{(1, 5.0, 5.0): 0.6190971439073086,\n",
       " (1, 5.0, 36.66666666666667): 0.632045209633361,\n",
       " (1, 5.0, 68.33333333333334): 0.6415014744087745,\n",
       " (1, 5.0, 100.0): 0.6344343365995874,\n",
       " (1, 36.66666666666667, 5.0): 0.6367942259980454,\n",
       " (1, 36.66666666666667, 36.66666666666667): 0.6450308665179727,\n",
       " (1, 36.66666666666667, 68.33333333333334): 0.6320535632241518,\n",
       " (1, 36.66666666666667, 100.0): 0.6308965908995982,\n",
       " (1, 68.33333333333334, 5.0): 0.6356247232873051,\n",
       " (1, 68.33333333333334, 36.66666666666667): 0.6320660936103385,\n",
       " (1, 68.33333333333334, 68.33333333333334): 0.6297312649842535,\n",
       " (1, 68.33333333333334, 100.0): 0.6261851656934733,\n",
       " (1, 100.0, 5.0): 0.607322757687392,\n",
       " (1, 100.0, 36.66666666666667): 0.6344343365995874,\n",
       " (1, 100.0, 68.33333333333334): 0.6297020274164851,\n",
       " (1, 100.0, 100.0): 0.6414805904317972,\n",
       " (2, 5.0, 5.0): 0.6403069109256614,\n",
       " (2, 5.0, 36.66666666666667): 0.6297229113934625,\n",
       " (2, 5.0, 68.33333333333334): 0.62382109949962,\n",
       " (2, 5.0, 100.0): 0.6308715301272252,\n",
       " (2, 36.66666666666667, 5.0): 0.6249947790057556,\n",
       " (2, 36.66666666666667, 36.66666666666667): 0.629710381007276,\n",
       " (2, 36.66666666666667, 68.33333333333334): 0.6238169227042244,\n",
       " (2, 36.66666666666667, 100.0): 0.629710381007276,\n",
       " (2, 68.33333333333334, 5.0): 0.6320577400195474,\n",
       " (2, 68.33333333333334, 36.66666666666667): 0.6143898954965792,\n",
       " (2, 68.33333333333334, 68.33333333333334): 0.6391123474425482,\n",
       " (2, 68.33333333333334, 100.0): 0.6297229113934625,\n",
       " (2, 100.0, 5.0): 0.6261726353072868,\n",
       " (2, 100.0, 36.66666666666667): 0.6285158175241627,\n",
       " (2, 100.0, 68.33333333333334): 0.6344385133949829,\n",
       " (2, 100.0, 100.0): 0.6238169227042244,\n",
       " (3, 5.0, 5.0): 0.6285283479103493,\n",
       " (3, 5.0, 36.66666666666667): 0.641497297613379,\n",
       " (3, 5.0, 68.33333333333334): 0.6226265360165067,\n",
       " (3, 5.0, 100.0): 0.6297187345980669,\n",
       " (3, 36.66666666666667, 5.0): 0.6296853202349029,\n",
       " (3, 36.66666666666667, 36.66666666666667): 0.6214319725333936,\n",
       " (3, 36.66666666666667, 68.33333333333334): 0.6415014744087745,\n",
       " (3, 36.66666666666667, 100.0): 0.6261684585118914,\n",
       " (3, 68.33333333333334, 5.0): 0.632061916814943,\n",
       " (3, 68.33333333333334, 36.66666666666667): 0.6297062042118805,\n",
       " (3, 68.33333333333334, 68.33333333333334): 0.6226432431980887,\n",
       " (3, 68.33333333333334, 100.0): 0.6344134526226098,\n",
       " (3, 100.0, 5.0): 0.6285283479103493,\n",
       " (3, 100.0, 36.66666666666667): 0.6320786239965249,\n",
       " (3, 100.0, 68.33333333333334): 0.6226432431980887,\n",
       " (3, 100.0, 100.0): 0.629710381007276}"
      ]
     },
     "execution_count": 68,
     "metadata": {},
     "output_type": "execute_result"
    }
   ],
   "source": [
    "acc_dict"
   ]
  },
  {
   "cell_type": "code",
   "execution_count": 156,
   "metadata": {
    "collapsed": false
   },
   "outputs": [
    {
     "data": {
      "text/plain": [
       "848"
      ]
     },
     "execution_count": 156,
     "metadata": {},
     "output_type": "execute_result"
    }
   ],
   "source": [
    "len(y_train)"
   ]
  },
  {
   "cell_type": "code",
   "execution_count": 157,
   "metadata": {
    "collapsed": false
   },
   "outputs": [
    {
     "data": {
      "text/plain": [
       "283"
      ]
     },
     "execution_count": 157,
     "metadata": {},
     "output_type": "execute_result"
    }
   ],
   "source": [
    "len(y_test)"
   ]
  },
  {
   "cell_type": "markdown",
   "metadata": {},
   "source": [
    "# Dummy model"
   ]
  },
  {
   "cell_type": "code",
   "execution_count": 197,
   "metadata": {
    "collapsed": true
   },
   "outputs": [],
   "source": [
    "dummy = DummyClassifier()"
   ]
  },
  {
   "cell_type": "code",
   "execution_count": 198,
   "metadata": {
    "collapsed": false
   },
   "outputs": [
    {
     "data": {
      "text/plain": [
       "0.4204946996466431"
      ]
     },
     "execution_count": 198,
     "metadata": {},
     "output_type": "execute_result"
    }
   ],
   "source": [
    "dummy.fit(X_train, y_train)\n",
    "strat = dummy.score(X_test, y_test)\n",
    "strat"
   ]
  },
  {
   "cell_type": "code",
   "execution_count": 199,
   "metadata": {
    "collapsed": true
   },
   "outputs": [],
   "source": [
    "dummy = DummyClassifier('most_frequent')"
   ]
  },
  {
   "cell_type": "code",
   "execution_count": 200,
   "metadata": {
    "collapsed": false
   },
   "outputs": [
    {
     "data": {
      "text/plain": [
       "0.5406360424028268"
      ]
     },
     "execution_count": 200,
     "metadata": {},
     "output_type": "execute_result"
    }
   ],
   "source": [
    "dummy.fit(X_train, y_train)\n",
    "max_class = dummy.score(X_test, y_test)\n",
    "max_class"
   ]
  },
  {
   "cell_type": "code",
   "execution_count": 201,
   "metadata": {
    "collapsed": true
   },
   "outputs": [],
   "source": [
    "dummy = DummyClassifier('uniform')"
   ]
  },
  {
   "cell_type": "code",
   "execution_count": 202,
   "metadata": {
    "collapsed": false
   },
   "outputs": [
    {
     "data": {
      "text/plain": [
       "0.2579505300353357"
      ]
     },
     "execution_count": 202,
     "metadata": {},
     "output_type": "execute_result"
    }
   ],
   "source": [
    "dummy.fit(X_train, y_train)\n",
    "uniform = dummy.score(X_test, y_test)\n",
    "uniform"
   ]
  },
  {
   "cell_type": "code",
   "execution_count": 206,
   "metadata": {
    "collapsed": false
   },
   "outputs": [
    {
     "data": {
      "text/plain": [
       "Text(0.5,0,'Model')"
      ]
     },
     "execution_count": 206,
     "metadata": {},
     "output_type": "execute_result"
    },
    {
     "data": {
      "image/png": "[encoded data removed]",
      "text/plain": [
       "<Figure size 720x720 with 1 Axes>"
      ]
     },
     "metadata": {},
     "output_type": "display_data"
    }
   ],
   "source": [
    "plt.figure(figsize=(10,10))\n",
    "\n",
    "plt.bar(range(4), [uniform, strat, max_class, best_score])\n",
    "plt.xticks(range(4), ['Uniform Sampling', 'Stratified Sampling',\n",
    "           'Choose Max Class', 'True Model'])\n",
    "plt.ylabel('Accuracy')\n",
    "plt.xlabel('Model')"
   ]
  },
  {
   "cell_type": "code",
   "execution_count": 191,
   "metadata": {
    "collapsed": false
   },
   "outputs": [
    {
     "data": {
      "text/plain": [
       "array([[118.,  77.],\n",
       "       [ 35.,  53.]])"
      ]
     },
     "execution_count": 191,
     "metadata": {},
     "output_type": "execute_result"
    }
   ],
   "source": [
    "contingency_table = np.zeros((2,2))\n",
    "dummy = DummyClassifier('most_frequent')\n",
    "dummy.fit(X_train, y_train)\n",
    "\n",
    "pred_real_model = s_v_m.predict(X_test)\n",
    "correct_real_model = pred_real_model == y_test\n",
    "\n",
    "pred_dummy_model = dummy.predict(X_test)\n",
    "correct_dummy_model = pred_dummy_model == y_test\n",
    "\n",
    "\n",
    "contingency_table[0,0] = sum(correct_real_model & correct_dummy_model)\n",
    "contingency_table[0,1] = sum(correct_real_model & ~correct_dummy_model)\n",
    "contingency_table[1,0] = sum(~correct_real_model & correct_dummy_model)\n",
    "contingency_table[1,1] = sum(~correct_real_model & ~correct_dummy_model)\n",
    "contingency_table\n"
   ]
  },
  {
   "cell_type": "code",
   "execution_count": 192,
   "metadata": {
    "collapsed": true
   },
   "outputs": [],
   "source": [
    "\n",
    "result = sm.stats.mcnemar(contingency_table)"
   ]
  },
  {
   "cell_type": "code",
   "execution_count": 193,
   "metadata": {
    "collapsed": false
   },
   "outputs": [
    {
     "data": {
      "text/plain": [
       "8.980220370452061e-05"
      ]
     },
     "execution_count": 193,
     "metadata": {},
     "output_type": "execute_result"
    }
   ],
   "source": [
    "result.pvalue"
   ]
  },
  {
   "cell_type": "code",
   "execution_count": 194,
   "metadata": {
    "collapsed": false
   },
   "outputs": [
    {
     "data": {
      "text/plain": [
       "<bunch object containing statsmodels results>"
      ]
     },
     "execution_count": 194,
     "metadata": {},
     "output_type": "execute_result"
    }
   ],
   "source": [
    "resu"
   ]
  },
  {
   "cell_type": "code",
   "execution_count": null,
   "metadata": {
    "collapsed": true
   },
   "outputs": [],
   "source": []
  }
 ],
 "metadata": {
  "kernelspec": {
   "display_name": "img-rotate",
   "language": "python",
   "name": "img-rotate"
  },
  "language_info": {
   "codemirror_mode": {
    "name": "ipython",
    "version": 2
   },
   "file_extension": ".py",
   "mimetype": "text/x-python",
   "name": "python",
   "nbconvert_exporter": "python",
   "pygments_lexer": "ipython2",
   "version": "2.7.11"
  }
 },
 "nbformat": 4,
 "nbformat_minor": 2
}
